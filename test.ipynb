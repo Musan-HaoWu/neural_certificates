{
 "cells": [
  {
   "cell_type": "code",
   "execution_count": 77,
   "metadata": {},
   "outputs": [
    {
     "name": "stdout",
     "output_type": "stream",
     "text": [
      "The autoreload extension is already loaded. To reload it, use:\n",
      "  %reload_ext autoreload\n"
     ]
    }
   ],
   "source": [
    "%load_ext autoreload\n",
    "%autoreload 2"
   ]
  },
  {
   "cell_type": "code",
   "execution_count": 78,
   "metadata": {},
   "outputs": [],
   "source": [
    "import argparse\n",
    "import os\n",
    "import sys\n",
    "import jax\n",
    "import jax.numpy as jnp\n",
    "import jax.random\n",
    "from gymnasium import spaces\n",
    "from tqdm import tqdm\n",
    "\n",
    "from klax import lipschitz_l1_jax, triangular\n",
    "from rl_environments import Vandelpol\n",
    "# from rl_environments import LDSEnv, InvertedPendulum, CollisionAvoidanceEnv, Vandelpol\n",
    "from rsm_learner import Learner\n",
    "from rsm_verifier import Verifier\n",
    "import time\n",
    "import numpy as np\n",
    "import matplotlib.pyplot as plt\n",
    "import seaborn as sns"
   ]
  },
  {
   "cell_type": "code",
   "execution_count": 79,
   "metadata": {},
   "outputs": [],
   "source": [
    "parser = argparse.ArgumentParser(\n",
    "    prog='System Normalization for Neural Certificates',\n",
    "    description='Learning a reach-avoid supermartingale neural network with normalization techniques',\n",
    "    epilog='By Musan (Hao Wu) @ SKLCS, Institute of Software, UCAS'\n",
    ")\n",
    "\n",
    "parser.add_argument(\"--debug\", default=True, type=bool)\n",
    "# problem formulation    \n",
    "parser.add_argument(\"--env\", default=\"vandelpol\", help='control system')\n",
    "parser.add_argument(\"--timeout\", default=60, type=int, help='max time limit in minutes') \n",
    "parser.add_argument(\"--reach_prob\", default=0.8, type=float, help='reach-avoid probability')\n",
    "\n",
    "parser.add_argument(\"--project\", default=False, type=bool, help='Nomalize the system')\n",
    "\n",
    "# neural network and training\n",
    "parser.add_argument(\"--hidden\", default=128, type=int, help='hidden neurons in each layer')\n",
    "parser.add_argument(\"--num_layers\", default=2, type=int, help='number of hidden layers')\n",
    "# learner \n",
    "parser.add_argument(\"--continue_rsm\", type=int, default=0, help='use an existing network')\n",
    "\n",
    "# verifier\n",
    "parser.add_argument(\"--eps\", default=0.05, type=float) # ???\n",
    "parser.add_argument(\"--lip\", default=0.01, type=float) # ???\n",
    "\n",
    " \n",
    "\n",
    "# parser.add_argument(\"--p_lip\", default=0.0, type=float) \n",
    "parser.add_argument(\"--l_lip\", default=4.0, type=float) # ???\n",
    "parser.add_argument(\"--fail_check_fast\", type=int, default=0)\n",
    "parser.add_argument(\"--grid_factor\", default=1.0, type=float)\n",
    "parser.add_argument(\"--batch_size\", default=512, type=int)\n",
    "# parser.add_argument(\"--ppo_iters\", default=50, type=int)\n",
    "# parser.add_argument(\"--policy\", default=\"policies/lds0_zero.jax\")\n",
    "# parser.add_argument(\"--train_p\", type=int, default=1)\n",
    "parser.add_argument(\"--square_l_output\", default=True)\n",
    "parser.add_argument(\"--jitter_grid\", type=int, default=0)\n",
    "parser.add_argument(\"--soft_constraint\", type=int, default=1)\n",
    "parser.add_argument(\"--gamma_decrease\", default=1.0, type=float)\n",
    "parser.add_argument(\"--debug_k0\", action=\"store_true\")\n",
    "parser.add_argument(\"--gen_plot\", action=\"store_true\")\n",
    "parser.add_argument(\"--no_refinement\", action=\"store_true\")\n",
    "parser.add_argument(\"--plot\", action=\"store_true\")\n",
    "parser.add_argument(\"--small_mem\", action=\"store_true\")\n",
    "sys.argv = ['test.ipynb', '--env', 'vandelpol']\n",
    "args = parser.parse_args()"
   ]
  },
  {
   "cell_type": "code",
   "execution_count": 80,
   "metadata": {},
   "outputs": [],
   "source": [
    "env = Vandelpol()\n",
    "learner = Learner(\n",
    "    env=env,\n",
    "    l_hidden=[args.hidden] * args.num_layers,\n",
    "    l_lip=args.l_lip,\n",
    "    eps=args.eps,\n",
    "    gamma_decrease=args.gamma_decrease,\n",
    "    reach_prob=args.reach_prob,\n",
    "    softplus_l_output=args.square_l_output,\n",
    "    debug = args.debug,\n",
    ")"
   ]
  },
  {
   "cell_type": "code",
   "execution_count": 81,
   "metadata": {},
   "outputs": [],
   "source": [
    "verifier = Verifier(\n",
    "    learner=learner,\n",
    "    env=env,\n",
    "    batch_size=args.batch_size,\n",
    "    reach_prob=args.reach_prob,\n",
    "    fail_check_fast=bool(args.fail_check_fast),\n",
    "    grid_factor=args.grid_factor,\n",
    "    small_mem=args.small_mem,\n",
    "    debug = args.debug,\n",
    ")"
   ]
  },
  {
   "cell_type": "code",
   "execution_count": 82,
   "metadata": {},
   "outputs": [],
   "source": [
    "from rsm_loop import RSMLoop\n",
    "loop = RSMLoop( \n",
    "        learner,\n",
    "        verifier,\n",
    "        env,\n",
    "        lip_factor=args.lip,\n",
    "        plot=args.plot,\n",
    "        jitter_grid=bool(args.jitter_grid),\n",
    "        soft_constraint=bool(args.soft_constraint),\n",
    "        debug = args.debug,\n",
    "    )\n",
    "\n",
    "\n",
    "# loop.plot_l(f\"plots/{args.env}_start.png\")"
   ]
  },
  {
   "cell_type": "code",
   "execution_count": 64,
   "metadata": {},
   "outputs": [
    {
     "name": "stdout",
     "output_type": "stream",
     "text": [
      "\n",
      "## Iteration 0 (0:00 elapsed) ##\n",
      "create grid.\n"
     ]
    },
    {
     "name": "stderr",
     "output_type": "stream",
     "text": [
      "Train: loss=6.37e+06, dec_loss=5.68e+06, violations=0.51: 100%|██████████| 100/100 [03:42<00:00,  2.23s/it]\n"
     ]
    },
    {
     "name": "stdout",
     "output_type": "stream",
     "text": [
      "Trained on 40000 samples, start_loss=8.93, end_loss=6.37e+06, start_violations=0.496, end_violations=0.51 in 3.7 minutes\n"
     ]
    },
    {
     "name": "stderr",
     "output_type": "stream",
     "text": [
      "100%|██████████| 2/2 [00:00<00:00, 27.43it/s]\n",
      "100%|██████████| 76/76 [00:03<00:00, 25.18it/s]\n"
     ]
    },
    {
     "name": "stdout",
     "output_type": "stream",
     "text": [
      "lipschitz_k=71967882.24000001 (without delta)\n",
      "delta=0.004008016032064128\n",
      "K=288448.4258116233 (with delta)\n",
      "Checking GRID of size 500\n"
     ]
    },
    {
     "name": "stderr",
     "output_type": "stream",
     "text": []
    },
    {
     "ename": "KeyboardInterrupt",
     "evalue": "",
     "output_type": "error",
     "traceback": [
      "\u001b[0;31m---------------------------------------------------------------------------\u001b[0m",
      "\u001b[0;31mKeyboardInterrupt\u001b[0m                         Traceback (most recent call last)",
      "Cell \u001b[0;32mIn[64], line 1\u001b[0m\n\u001b[0;32m----> 1\u001b[0m \u001b[43mloop\u001b[49m\u001b[38;5;241;43m.\u001b[39;49m\u001b[43mrun\u001b[49m\u001b[43m(\u001b[49m\u001b[43margs\u001b[49m\u001b[38;5;241;43m.\u001b[39;49m\u001b[43mtimeout\u001b[49m\u001b[38;5;241;43m*\u001b[39;49m\u001b[38;5;241;43m10\u001b[39;49m\u001b[43m)\u001b[49m\n",
      "File \u001b[0;32m~/neural_certificates/rsm_loop.py:124\u001b[0m, in \u001b[0;36mRSMLoop.run\u001b[0;34m(self, timeout)\u001b[0m\n\u001b[1;32m    121\u001b[0m \u001b[38;5;28mself\u001b[39m\u001b[38;5;241m.\u001b[39minfo[\u001b[38;5;124m\"\u001b[39m\u001b[38;5;124miter\u001b[39m\u001b[38;5;124m\"\u001b[39m] \u001b[38;5;241m=\u001b[39m \u001b[38;5;28mself\u001b[39m\u001b[38;5;241m.\u001b[39miter\n\u001b[1;32m    122\u001b[0m \u001b[38;5;28mself\u001b[39m\u001b[38;5;241m.\u001b[39minfo[\u001b[38;5;124m\"\u001b[39m\u001b[38;5;124mruntime\u001b[39m\u001b[38;5;124m\"\u001b[39m] \u001b[38;5;241m=\u001b[39m runtime\n\u001b[0;32m--> 124\u001b[0m sat, hard_violations, info \u001b[38;5;241m=\u001b[39m \u001b[38;5;28;43mself\u001b[39;49m\u001b[38;5;241;43m.\u001b[39;49m\u001b[43mverifier\u001b[49m\u001b[38;5;241;43m.\u001b[39;49m\u001b[43mcheck_dec_cond\u001b[49m\u001b[43m(\u001b[49m\u001b[43mlipschitz_k\u001b[49m\u001b[43m)\u001b[49m\n\u001b[1;32m    125\u001b[0m \u001b[38;5;28;01mfor\u001b[39;00m k, v \u001b[38;5;129;01min\u001b[39;00m info\u001b[38;5;241m.\u001b[39mitems():\n\u001b[1;32m    126\u001b[0m     \u001b[38;5;28mself\u001b[39m\u001b[38;5;241m.\u001b[39minfo[k] \u001b[38;5;241m=\u001b[39m v\n",
      "File \u001b[0;32m~/neural_certificates/rsm_verifier.py:539\u001b[0m, in \u001b[0;36mVerifier.check_dec_cond\u001b[0;34m(self, lipschitz_k)\u001b[0m\n\u001b[1;32m    527\u001b[0m l_batch \u001b[38;5;241m=\u001b[39m l_batch[less_than_p]\n\u001b[1;32m    528\u001b[0m (\n\u001b[1;32m    529\u001b[0m     v,\n\u001b[1;32m    530\u001b[0m     violating_indices,\n\u001b[0;32m   (...)\u001b[0m\n\u001b[1;32m    537\u001b[0m     K\n\u001b[1;32m    538\u001b[0m )\n\u001b[0;32m--> 539\u001b[0m hard_violations \u001b[38;5;241m+\u001b[39m\u001b[38;5;241m=\u001b[39m hard_v\n\u001b[1;32m    540\u001b[0m violations \u001b[38;5;241m+\u001b[39m\u001b[38;5;241m=\u001b[39m v\n\u001b[1;32m    541\u001b[0m \u001b[38;5;28;01mif\u001b[39;00m \u001b[38;5;28mself\u001b[39m\u001b[38;5;241m.\u001b[39mrefinement_enabled \u001b[38;5;129;01mand\u001b[39;00m v \u001b[38;5;241m>\u001b[39m \u001b[38;5;241m0\u001b[39m:\n",
      "File \u001b[0;32m~/micromamba/envs/nc/lib/python3.10/site-packages/jax/_src/numpy/array_methods.py:573\u001b[0m, in \u001b[0;36m_defer_to_unrecognized_arg.<locals>.deferring_binary_op\u001b[0;34m(self, other)\u001b[0m\n\u001b[1;32m    571\u001b[0m args \u001b[38;5;241m=\u001b[39m (other, \u001b[38;5;28mself\u001b[39m) \u001b[38;5;28;01mif\u001b[39;00m swap \u001b[38;5;28;01melse\u001b[39;00m (\u001b[38;5;28mself\u001b[39m, other)\n\u001b[1;32m    572\u001b[0m \u001b[38;5;28;01mif\u001b[39;00m \u001b[38;5;28misinstance\u001b[39m(other, _accepted_binop_types):\n\u001b[0;32m--> 573\u001b[0m   \u001b[38;5;28;01mreturn\u001b[39;00m \u001b[43mbinary_op\u001b[49m\u001b[43m(\u001b[49m\u001b[38;5;241;43m*\u001b[39;49m\u001b[43margs\u001b[49m\u001b[43m)\u001b[49m\n\u001b[1;32m    574\u001b[0m \u001b[38;5;66;03m# Note: don't use isinstance here, because we don't want to raise for\u001b[39;00m\n\u001b[1;32m    575\u001b[0m \u001b[38;5;66;03m# subclasses, e.g. NamedTuple objects that may override operators.\u001b[39;00m\n\u001b[1;32m    576\u001b[0m \u001b[38;5;28;01mif\u001b[39;00m \u001b[38;5;28mtype\u001b[39m(other) \u001b[38;5;129;01min\u001b[39;00m _rejected_binop_types:\n",
      "File \u001b[0;32m~/micromamba/envs/nc/lib/python3.10/site-packages/jax/_src/numpy/ufunc_api.py:177\u001b[0m, in \u001b[0;36mufunc.__call__\u001b[0;34m(self, out, where, *args)\u001b[0m\n\u001b[1;32m    175\u001b[0m   \u001b[38;5;28;01mraise\u001b[39;00m \u001b[38;5;167;01mNotImplementedError\u001b[39;00m(\u001b[38;5;124mf\u001b[39m\u001b[38;5;124m\"\u001b[39m\u001b[38;5;124mwhere argument of \u001b[39m\u001b[38;5;132;01m{\u001b[39;00m\u001b[38;5;28mself\u001b[39m\u001b[38;5;132;01m}\u001b[39;00m\u001b[38;5;124m\"\u001b[39m)\n\u001b[1;32m    176\u001b[0m call \u001b[38;5;241m=\u001b[39m \u001b[38;5;28mself\u001b[39m\u001b[38;5;241m.\u001b[39m__static_props[\u001b[38;5;124m'\u001b[39m\u001b[38;5;124mcall\u001b[39m\u001b[38;5;124m'\u001b[39m] \u001b[38;5;129;01mor\u001b[39;00m \u001b[38;5;28mself\u001b[39m\u001b[38;5;241m.\u001b[39m_call_vectorized\n\u001b[0;32m--> 177\u001b[0m \u001b[38;5;28;01mreturn\u001b[39;00m \u001b[43mcall\u001b[49m\u001b[43m(\u001b[49m\u001b[38;5;241;43m*\u001b[39;49m\u001b[43margs\u001b[49m\u001b[43m)\u001b[49m\n",
      "\u001b[0;31mKeyboardInterrupt\u001b[0m: "
     ]
    }
   ],
   "source": [
    "loop.run(args.timeout*10)"
   ]
  },
  {
   "cell_type": "code",
   "execution_count": 86,
   "metadata": {},
   "outputs": [
    {
     "data": {
      "text/plain": [
       "NoneType"
      ]
     },
     "execution_count": 86,
     "metadata": {},
     "output_type": "execute_result"
    }
   ],
   "source": [
    "loop.verifier.train_buffer._cached_ds"
   ]
  },
  {
   "cell_type": "code",
   "execution_count": 87,
   "metadata": {},
   "outputs": [
    {
     "ename": "ValueError",
     "evalue": "need at least one array to concatenate",
     "output_type": "error",
     "traceback": [
      "\u001b[0;31m---------------------------------------------------------------------------\u001b[0m",
      "\u001b[0;31mValueError\u001b[0m                                Traceback (most recent call last)",
      "Cell \u001b[0;32mIn[87], line 2\u001b[0m\n\u001b[1;32m      1\u001b[0m \u001b[38;5;28;01mimport\u001b[39;00m \u001b[38;5;21;01mtensorflow\u001b[39;00m \u001b[38;5;28;01mas\u001b[39;00m \u001b[38;5;21;01mtf\u001b[39;00m\n\u001b[0;32m----> 2\u001b[0m train_ds \u001b[38;5;241m=\u001b[39m \u001b[43mloop\u001b[49m\u001b[38;5;241;43m.\u001b[39;49m\u001b[43mverifier\u001b[49m\u001b[38;5;241;43m.\u001b[39;49m\u001b[43mtrain_buffer\u001b[49m\u001b[38;5;241;43m.\u001b[39;49m\u001b[43mas_tfds\u001b[49m\u001b[43m(\u001b[49m\u001b[43mbatch_size\u001b[49m\u001b[38;5;241;43m=\u001b[39;49m\u001b[38;5;241;43m4096\u001b[39;49m\u001b[43m)\u001b[49m\n\u001b[1;32m      3\u001b[0m iterator \u001b[38;5;241m=\u001b[39m train_ds\u001b[38;5;241m.\u001b[39mas_numpy_iterator()\n",
      "File \u001b[0;32m~/neural_certificates/rsm_verifier.py:99\u001b[0m, in \u001b[0;36mTrainBuffer.as_tfds\u001b[0;34m(self, batch_size)\u001b[0m\n\u001b[1;32m     97\u001b[0m \u001b[38;5;28;01mif\u001b[39;00m \u001b[38;5;28mself\u001b[39m\u001b[38;5;241m.\u001b[39m_cached_ds \u001b[38;5;129;01mis\u001b[39;00m \u001b[38;5;129;01mnot\u001b[39;00m \u001b[38;5;28;01mNone\u001b[39;00m:\n\u001b[1;32m     98\u001b[0m     \u001b[38;5;28;01mreturn\u001b[39;00m \u001b[38;5;28mself\u001b[39m\u001b[38;5;241m.\u001b[39m_cached_ds\n\u001b[0;32m---> 99\u001b[0m train_s \u001b[38;5;241m=\u001b[39m \u001b[43mnp\u001b[49m\u001b[38;5;241;43m.\u001b[39;49m\u001b[43mconcatenate\u001b[49m\u001b[43m(\u001b[49m\u001b[38;5;28;43mself\u001b[39;49m\u001b[38;5;241;43m.\u001b[39;49m\u001b[43ms\u001b[49m\u001b[43m,\u001b[49m\u001b[43m \u001b[49m\u001b[43maxis\u001b[49m\u001b[38;5;241;43m=\u001b[39;49m\u001b[38;5;241;43m0\u001b[39;49m\u001b[43m)\u001b[49m\n\u001b[1;32m    100\u001b[0m train_s \u001b[38;5;241m=\u001b[39m np\u001b[38;5;241m.\u001b[39mrandom\u001b[38;5;241m.\u001b[39mdefault_rng()\u001b[38;5;241m.\u001b[39mpermutation(train_s)\n\u001b[1;32m    101\u001b[0m train_ds \u001b[38;5;241m=\u001b[39m tf\u001b[38;5;241m.\u001b[39mdata\u001b[38;5;241m.\u001b[39mDataset\u001b[38;5;241m.\u001b[39mfrom_tensor_slices(train_s)\n",
      "\u001b[0;31mValueError\u001b[0m: need at least one array to concatenate"
     ]
    }
   ],
   "source": [
    "import tensorflow as tf\n",
    "train_ds = loop.verifier.train_buffer.as_tfds(batch_size=4096)\n",
    "iterator = train_ds.as_numpy_iterator()"
   ]
  },
  {
   "cell_type": "code",
   "execution_count": 72,
   "metadata": {},
   "outputs": [
    {
     "data": {
      "text/plain": [
       "True"
      ]
     },
     "execution_count": 72,
     "metadata": {},
     "output_type": "execute_result"
    }
   ],
   "source": [
    "isinstance(train_ds, tf.data.Dataset)"
   ]
  },
  {
   "cell_type": "code",
   "execution_count": 76,
   "metadata": {},
   "outputs": [
    {
     "name": "stdout",
     "output_type": "stream",
     "text": [
      "[[ 0.15499997 -0.46500003]\n",
      " [ 0.66499996 -0.55499995]\n",
      " [ 0.54499996  0.775     ]\n",
      " ...\n",
      " [-0.47500002  0.515     ]\n",
      " [ 0.11500002  0.515     ]\n",
      " [ 0.08499993 -0.995     ]]\n"
     ]
    }
   ],
   "source": [
    "for state in iterator:\n",
    "    state = jnp.array(state)\n",
    "    print(state)\n",
    "    break"
   ]
  },
  {
   "cell_type": "code",
   "execution_count": null,
   "metadata": {},
   "outputs": [],
   "source": []
  }
 ],
 "metadata": {
  "kernelspec": {
   "display_name": "Python 3",
   "language": "python",
   "name": "python3"
  },
  "language_info": {
   "codemirror_mode": {
    "name": "ipython",
    "version": 3
   },
   "file_extension": ".py",
   "mimetype": "text/x-python",
   "name": "python",
   "nbconvert_exporter": "python",
   "pygments_lexer": "ipython3",
   "version": "3.10.14"
  }
 },
 "nbformat": 4,
 "nbformat_minor": 2
}
