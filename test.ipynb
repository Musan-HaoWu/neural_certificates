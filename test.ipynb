{
 "cells": [
  {
   "cell_type": "code",
   "execution_count": 2,
   "metadata": {},
   "outputs": [],
   "source": [
    "%load_ext autoreload\n",
    "%autoreload 2"
   ]
  },
  {
   "cell_type": "code",
   "execution_count": 17,
   "metadata": {},
   "outputs": [],
   "source": [
    "import argparse\n",
    "import os\n",
    "import sys\n",
    "import jax\n",
    "import jax.numpy as jnp\n",
    "import jax.random\n",
    "from gymnasium import spaces\n",
    "from tqdm import tqdm\n",
    "\n",
    "from klax import lipschitz_l1_jax, triangular\n",
    "from rl_environments import Vandelpol\n",
    "# from rl_environments import LDSEnv, InvertedPendulum, CollisionAvoidanceEnv, Vandelpol\n",
    "from rsm_learner import Learner\n",
    "from rsm_verifier import Verifier\n",
    "import time\n",
    "import numpy as np\n",
    "import matplotlib.pyplot as plt\n",
    "import seaborn as sns"
   ]
  },
  {
   "cell_type": "code",
   "execution_count": 4,
   "metadata": {},
   "outputs": [],
   "source": [
    "parser = argparse.ArgumentParser(\n",
    "    prog='System Normalization for Neural Certificates',\n",
    "    description='Learning a reach-avoid supermartingale neural network with normalization techniques',\n",
    "    epilog='By Musan (Hao Wu) @ SKLCS, Institute of Software, UCAS'\n",
    ")\n",
    "# problem formulation    \n",
    "parser.add_argument(\"--env\", default=\"vandelpol\", help='control system')\n",
    "parser.add_argument(\"--timeout\", default=60, type=int, help='max time limit in minutes') \n",
    "parser.add_argument(\"--reach_prob\", default=0.8, type=float, help='reach-avoid probability')\n",
    "\n",
    "# neural network and training\n",
    "parser.add_argument(\"--hidden\", default=128, type=int, help='hidden neurons in each layer')\n",
    "parser.add_argument(\"--num_layers\", default=2, type=int, help='number of hidden layers')\n",
    "# learner \n",
    "parser.add_argument(\"--continue_rsm\", type=int, default=0, help='use an existing network')\n",
    "\n",
    "# verifier\n",
    "parser.add_argument(\"--eps\", default=0.05, type=float) # ???\n",
    "parser.add_argument(\"--lip\", default=0.01, type=float) # ???\n",
    "# parser.add_argument(\"--p_lip\", default=0.0, type=float) \n",
    "parser.add_argument(\"--l_lip\", default=4.0, type=float) # ???\n",
    "parser.add_argument(\"--fail_check_fast\", type=int, default=0)\n",
    "parser.add_argument(\"--grid_factor\", default=1.0, type=float)\n",
    "parser.add_argument(\"--batch_size\", default=512, type=int)\n",
    "# parser.add_argument(\"--ppo_iters\", default=50, type=int)\n",
    "# parser.add_argument(\"--policy\", default=\"policies/lds0_zero.jax\")\n",
    "# parser.add_argument(\"--train_p\", type=int, default=1)\n",
    "parser.add_argument(\"--square_l_output\", default=True)\n",
    "parser.add_argument(\"--jitter_grid\", type=int, default=0)\n",
    "parser.add_argument(\"--soft_constraint\", type=int, default=1)\n",
    "parser.add_argument(\"--gamma_decrease\", default=1.0, type=float)\n",
    "parser.add_argument(\"--debug_k0\", action=\"store_true\")\n",
    "parser.add_argument(\"--gen_plot\", action=\"store_true\")\n",
    "parser.add_argument(\"--no_refinement\", action=\"store_true\")\n",
    "parser.add_argument(\"--plot\", action=\"store_true\")\n",
    "parser.add_argument(\"--small_mem\", action=\"store_true\")\n",
    "sys.argv = ['test.ipynb', '--env', 'vandelpol']\n",
    "args = parser.parse_args()"
   ]
  },
  {
   "cell_type": "code",
   "execution_count": 5,
   "metadata": {},
   "outputs": [
    {
     "name": "stderr",
     "output_type": "stream",
     "text": [
      "/home/wuhao/micromamba/envs/nc/lib/python3.10/site-packages/gymnasium/spaces/box.py:130: UserWarning: \u001b[33mWARN: Box bound precision lowered by casting to float32\u001b[0m\n",
      "  gym.logger.warn(f\"Box bound precision lowered by casting to {self.dtype}\")\n"
     ]
    }
   ],
   "source": [
    "env = Vandelpol()\n",
    "learner = Learner(\n",
    "    env=env,\n",
    "    l_hidden=[args.hidden] * args.num_layers,\n",
    "    l_lip=args.l_lip,\n",
    "    eps=args.eps,\n",
    "    gamma_decrease=args.gamma_decrease,\n",
    "    reach_prob=args.reach_prob,\n",
    "    softplus_l_output=args.square_l_output,\n",
    ")"
   ]
  },
  {
   "cell_type": "code",
   "execution_count": 6,
   "metadata": {},
   "outputs": [],
   "source": [
    "verifier = Verifier(\n",
    "    learner=learner,\n",
    "    env=env,\n",
    "    batch_size=args.batch_size,\n",
    "    reach_prob=args.reach_prob,\n",
    "    fail_check_fast=bool(args.fail_check_fast),\n",
    "    grid_factor=args.grid_factor,\n",
    "    small_mem=args.small_mem,\n",
    ")"
   ]
  },
  {
   "cell_type": "code",
   "execution_count": 14,
   "metadata": {},
   "outputs": [],
   "source": [
    "from rsm_loop import RSMLoop\n",
    "loop = RSMLoop( \n",
    "        learner,\n",
    "        verifier,\n",
    "        env,\n",
    "        lip_factor=args.lip,\n",
    "        plot=args.plot,\n",
    "        # train_p=bool(args.train_p),#???\n",
    "        jitter_grid=bool(args.jitter_grid),#???\n",
    "        soft_constraint=bool(args.soft_constraint),#???\n",
    "    )\n",
    "\n",
    "\n",
    "# txt_return = learner.evaluate_rl()\n",
    "loop.plot_l(f\"plots/{args.env}_start.png\")"
   ]
  },
  {
   "cell_type": "code",
   "execution_count": 15,
   "metadata": {},
   "outputs": [
    {
     "name": "stdout",
     "output_type": "stream",
     "text": [
      "Creating pre-train buffer ...  [done]\n",
      "\n",
      "## Iteration 0 (0:00 elapsed) ##\n"
     ]
    },
    {
     "name": "stderr",
     "output_type": "stream",
     "text": [
      "  0%|          | 0/200 [00:00<?, ?it/s]"
     ]
    },
    {
     "ename": "TypeError",
     "evalue": "differentiating with respect to argnums=(0, 1) requires at least 2 positional arguments to be passed by the caller, but got only 1 positional arguments.",
     "output_type": "error",
     "traceback": [
      "\u001b[0;31m---------------------------------------------------------------------------\u001b[0m",
      "\u001b[0;31mTypeError\u001b[0m                                 Traceback (most recent call last)",
      "Cell \u001b[0;32mIn[15], line 1\u001b[0m\n\u001b[0;32m----> 1\u001b[0m \u001b[43mloop\u001b[49m\u001b[38;5;241;43m.\u001b[39;49m\u001b[43mrun\u001b[49m\u001b[43m(\u001b[49m\u001b[43margs\u001b[49m\u001b[38;5;241;43m.\u001b[39;49m\u001b[43mtimeout\u001b[49m\u001b[43m \u001b[49m\u001b[38;5;241;43m*\u001b[39;49m\u001b[43m \u001b[49m\u001b[38;5;241;43m60\u001b[39;49m\u001b[43m)\u001b[49m\n",
      "File \u001b[0;32m~/neural_certificates/rsm_loop.py:145\u001b[0m, in \u001b[0;36mRSMLoop.run\u001b[0;34m(self, timeout)\u001b[0m\n\u001b[1;32m    141\u001b[0m     \u001b[38;5;28mprint\u001b[39m(\u001b[38;5;124m\"\u001b[39m\u001b[38;5;124m[SAVED]\u001b[39m\u001b[38;5;124m\"\u001b[39m)\n\u001b[1;32m    142\u001b[0m \u001b[38;5;28mprint\u001b[39m(\n\u001b[1;32m    143\u001b[0m     \u001b[38;5;124mf\u001b[39m\u001b[38;5;124m\"\u001b[39m\u001b[38;5;130;01m\\n\u001b[39;00m\u001b[38;5;124m## Iteration \u001b[39m\u001b[38;5;132;01m{\u001b[39;00m\u001b[38;5;28mself\u001b[39m\u001b[38;5;241m.\u001b[39miter\u001b[38;5;132;01m}\u001b[39;00m\u001b[38;5;124m (\u001b[39m\u001b[38;5;132;01m{\u001b[39;00mruntime\u001b[38;5;250m \u001b[39m\u001b[38;5;241m/\u001b[39m\u001b[38;5;241m/\u001b[39m\u001b[38;5;250m \u001b[39m\u001b[38;5;241m60\u001b[39m\u001b[38;5;132;01m:\u001b[39;00m\u001b[38;5;124m0.0f\u001b[39m\u001b[38;5;132;01m}\u001b[39;00m\u001b[38;5;124m:\u001b[39m\u001b[38;5;132;01m{\u001b[39;00mruntime\u001b[38;5;250m \u001b[39m\u001b[38;5;241m%\u001b[39m\u001b[38;5;250m \u001b[39m\u001b[38;5;241m60\u001b[39m\u001b[38;5;132;01m:\u001b[39;00m\u001b[38;5;124m02.0f\u001b[39m\u001b[38;5;132;01m}\u001b[39;00m\u001b[38;5;124m elapsed) ##\u001b[39m\u001b[38;5;124m\"\u001b[39m\n\u001b[1;32m    144\u001b[0m )\n\u001b[0;32m--> 145\u001b[0m \u001b[38;5;28;43mself\u001b[39;49m\u001b[38;5;241;43m.\u001b[39;49m\u001b[43mtrain_until_zero_loss\u001b[49m\u001b[43m(\u001b[49m\u001b[43m)\u001b[49m\n\u001b[1;32m    147\u001b[0m K_f \u001b[38;5;241m=\u001b[39m \u001b[38;5;28mself\u001b[39m\u001b[38;5;241m.\u001b[39menv\u001b[38;5;241m.\u001b[39mlipschitz_constant\n\u001b[1;32m    148\u001b[0m K_l \u001b[38;5;241m=\u001b[39m lipschitz_l1_jax(\u001b[38;5;28mself\u001b[39m\u001b[38;5;241m.\u001b[39mlearner\u001b[38;5;241m.\u001b[39ml_state\u001b[38;5;241m.\u001b[39mparams)\u001b[38;5;241m.\u001b[39mitem()\n",
      "File \u001b[0;32m~/neural_certificates/rsm_loop.py:76\u001b[0m, in \u001b[0;36mRSMLoop.train_until_zero_loss\u001b[0;34m(self)\u001b[0m\n\u001b[1;32m     68\u001b[0m \u001b[38;5;28;01mfor\u001b[39;00m epoch \u001b[38;5;129;01min\u001b[39;00m \u001b[38;5;28mrange\u001b[39m(num_epochs):\n\u001b[1;32m     69\u001b[0m     \u001b[38;5;66;03m# self.iter >= 10\u001b[39;00m\n\u001b[1;32m     70\u001b[0m     \u001b[38;5;66;03m# if self.env.observation_space.shape[0] == 2\u001b[39;00m\n\u001b[0;32m   (...)\u001b[0m\n\u001b[1;32m     73\u001b[0m     \u001b[38;5;66;03m# if self.env.observation_space.shape[0] == 2\u001b[39;00m\n\u001b[1;32m     74\u001b[0m     \u001b[38;5;66;03m# else self.iter >= 3\u001b[39;00m\n\u001b[1;32m     75\u001b[0m     train_l \u001b[38;5;241m=\u001b[39m \u001b[38;5;28;01mTrue\u001b[39;00m\n\u001b[0;32m---> 76\u001b[0m     metrics \u001b[38;5;241m=\u001b[39m \u001b[38;5;28;43mself\u001b[39;49m\u001b[38;5;241;43m.\u001b[39;49m\u001b[43mlearner\u001b[49m\u001b[38;5;241;43m.\u001b[39;49m\u001b[43mtrain_epoch\u001b[49m\u001b[43m(\u001b[49m\n\u001b[1;32m     77\u001b[0m \u001b[43m        \u001b[49m\u001b[43mtrain_ds\u001b[49m\u001b[43m,\u001b[49m\u001b[43m \u001b[49m\u001b[43mcurrent_delta\u001b[49m\u001b[43m,\u001b[49m\u001b[43m \u001b[49m\u001b[38;5;28;43mself\u001b[39;49m\u001b[38;5;241;43m.\u001b[39;49m\u001b[43mlip_factor\u001b[49m\u001b[43m,\u001b[49m\u001b[43m \u001b[49m\u001b[43mtrain_l\u001b[49m\n\u001b[1;32m     78\u001b[0m \u001b[43m    \u001b[49m\u001b[43m)\u001b[49m\n\u001b[1;32m     79\u001b[0m     \u001b[38;5;28;01mif\u001b[39;00m start_metrics \u001b[38;5;129;01mis\u001b[39;00m \u001b[38;5;28;01mNone\u001b[39;00m:\n\u001b[1;32m     80\u001b[0m         start_metrics \u001b[38;5;241m=\u001b[39m metrics\n",
      "File \u001b[0;32m~/neural_certificates/rsm_learner.py:219\u001b[0m, in \u001b[0;36mLearner.train_epoch\u001b[0;34m(self, train_ds, current_delta, lip, train_l, train_p)\u001b[0m\n\u001b[1;32m    215\u001b[0m \u001b[38;5;28mself\u001b[39m\u001b[38;5;241m.\u001b[39mrng, rng \u001b[38;5;241m=\u001b[39m jax\u001b[38;5;241m.\u001b[39mrandom\u001b[38;5;241m.\u001b[39msplit(\u001b[38;5;28mself\u001b[39m\u001b[38;5;241m.\u001b[39mrng, \u001b[38;5;241m2\u001b[39m)\n\u001b[1;32m    217\u001b[0m \u001b[38;5;66;03m# self._debug_init.append(np.array(init_samples))\u001b[39;00m\n\u001b[1;32m    218\u001b[0m \u001b[38;5;66;03m# self._debug_unsafe.append(np.array(unsafe_samples))\u001b[39;00m\n\u001b[0;32m--> 219\u001b[0m new_l_state, new_p_state, metrics \u001b[38;5;241m=\u001b[39m \u001b[38;5;28;43mself\u001b[39;49m\u001b[38;5;241;43m.\u001b[39;49m\u001b[43mtrain_step\u001b[49m\u001b[43m(\u001b[49m\n\u001b[1;32m    220\u001b[0m \u001b[43m    \u001b[49m\u001b[38;5;28;43mself\u001b[39;49m\u001b[38;5;241;43m.\u001b[39;49m\u001b[43ml_state\u001b[49m\u001b[43m,\u001b[49m\n\u001b[1;32m    221\u001b[0m \u001b[43m    \u001b[49m\u001b[43mstate\u001b[49m\u001b[43m,\u001b[49m\n\u001b[1;32m    222\u001b[0m \u001b[43m    \u001b[49m\u001b[43mlip\u001b[49m\u001b[43m,\u001b[49m\n\u001b[1;32m    223\u001b[0m \u001b[43m    \u001b[49m\u001b[43mrng\u001b[49m\u001b[43m,\u001b[49m\n\u001b[1;32m    224\u001b[0m \u001b[43m    \u001b[49m\u001b[43mcurrent_delta\u001b[49m\u001b[43m,\u001b[49m\n\u001b[1;32m    225\u001b[0m \u001b[43m\u001b[49m\u001b[43m)\u001b[49m\n\u001b[1;32m    226\u001b[0m \u001b[38;5;28;01mif\u001b[39;00m train_p:\n\u001b[1;32m    227\u001b[0m     \u001b[38;5;28mself\u001b[39m\u001b[38;5;241m.\u001b[39mp_state \u001b[38;5;241m=\u001b[39m new_p_state\n",
      "    \u001b[0;31m[... skipping hidden 11 frame]\u001b[0m\n",
      "File \u001b[0;32m~/neural_certificates/rsm_learner.py:190\u001b[0m, in \u001b[0;36mLearner.train_step\u001b[0;34m(self, l_state, state, lip, rng, current_delta)\u001b[0m\n\u001b[1;32m    187\u001b[0m     \u001b[38;5;28;01mreturn\u001b[39;00m loss, (dec_loss, violations)\n\u001b[1;32m    189\u001b[0m grad_fn \u001b[38;5;241m=\u001b[39m jax\u001b[38;5;241m.\u001b[39mvalue_and_grad(loss_fn, has_aux\u001b[38;5;241m=\u001b[39m\u001b[38;5;28;01mTrue\u001b[39;00m, argnums\u001b[38;5;241m=\u001b[39m(\u001b[38;5;241m0\u001b[39m, \u001b[38;5;241m1\u001b[39m))\n\u001b[0;32m--> 190\u001b[0m (loss, (dec_loss, violations)), l_grad \u001b[38;5;241m=\u001b[39m \u001b[43mgrad_fn\u001b[49m\u001b[43m(\u001b[49m\u001b[43ml_state\u001b[49m\u001b[38;5;241;43m.\u001b[39;49m\u001b[43mparams\u001b[49m\u001b[43m)\u001b[49m\n\u001b[1;32m    191\u001b[0m l_grad \u001b[38;5;241m=\u001b[39m clip_grad_norm(l_grad, \u001b[38;5;241m1\u001b[39m)\n\u001b[1;32m    192\u001b[0m l_state \u001b[38;5;241m=\u001b[39m l_state\u001b[38;5;241m.\u001b[39mapply_gradients(grads\u001b[38;5;241m=\u001b[39ml_grad)\n",
      "    \u001b[0;31m[... skipping hidden 1 frame]\u001b[0m\n",
      "File \u001b[0;32m~/micromamba/envs/nc/lib/python3.10/site-packages/jax/_src/api.py:452\u001b[0m, in \u001b[0;36mvalue_and_grad.<locals>.value_and_grad_f\u001b[0;34m(*args, **kwargs)\u001b[0m\n\u001b[1;32m    450\u001b[0m max_argnum \u001b[38;5;241m=\u001b[39m argnums \u001b[38;5;28;01mif\u001b[39;00m \u001b[38;5;28misinstance\u001b[39m(argnums, \u001b[38;5;28mint\u001b[39m) \u001b[38;5;28;01melse\u001b[39;00m \u001b[38;5;28mmax\u001b[39m(argnums)\n\u001b[1;32m    451\u001b[0m \u001b[38;5;28;01mif\u001b[39;00m max_argnum \u001b[38;5;241m>\u001b[39m\u001b[38;5;241m=\u001b[39m \u001b[38;5;28mlen\u001b[39m(args):\n\u001b[0;32m--> 452\u001b[0m   \u001b[38;5;28;01mraise\u001b[39;00m \u001b[38;5;167;01mTypeError\u001b[39;00m(\u001b[38;5;124mf\u001b[39m\u001b[38;5;124m\"\u001b[39m\u001b[38;5;124mdifferentiating with respect to \u001b[39m\u001b[38;5;132;01m{\u001b[39;00margnums\u001b[38;5;132;01m=}\u001b[39;00m\u001b[38;5;124m requires at least \u001b[39m\u001b[38;5;124m\"\u001b[39m\n\u001b[1;32m    453\u001b[0m                   \u001b[38;5;124mf\u001b[39m\u001b[38;5;124m\"\u001b[39m\u001b[38;5;132;01m{\u001b[39;00mmax_argnum\u001b[38;5;250m \u001b[39m\u001b[38;5;241m+\u001b[39m\u001b[38;5;250m \u001b[39m\u001b[38;5;241m1\u001b[39m\u001b[38;5;132;01m}\u001b[39;00m\u001b[38;5;124m positional arguments to be passed by the caller, \u001b[39m\u001b[38;5;124m\"\u001b[39m\n\u001b[1;32m    454\u001b[0m                   \u001b[38;5;124mf\u001b[39m\u001b[38;5;124m\"\u001b[39m\u001b[38;5;124mbut got only \u001b[39m\u001b[38;5;132;01m{\u001b[39;00m\u001b[38;5;28mlen\u001b[39m(args)\u001b[38;5;132;01m}\u001b[39;00m\u001b[38;5;124m positional arguments.\u001b[39m\u001b[38;5;124m\"\u001b[39m)\n\u001b[1;32m    456\u001b[0m f \u001b[38;5;241m=\u001b[39m lu\u001b[38;5;241m.\u001b[39mwrap_init(fun, kwargs)\n\u001b[1;32m    457\u001b[0m f_partial, dyn_args \u001b[38;5;241m=\u001b[39m argnums_partial(f, argnums, args,\n\u001b[1;32m    458\u001b[0m                                       require_static_args_hashable\u001b[38;5;241m=\u001b[39m\u001b[38;5;28;01mFalse\u001b[39;00m)\n",
      "\u001b[0;31mTypeError\u001b[0m: differentiating with respect to argnums=(0, 1) requires at least 2 positional arguments to be passed by the caller, but got only 1 positional arguments."
     ]
    }
   ],
   "source": [
    "loop.run(args.timeout * 60)"
   ]
  },
  {
   "cell_type": "code",
   "execution_count": 22,
   "metadata": {},
   "outputs": [
    {
     "name": "stdout",
     "output_type": "stream",
     "text": [
      "[False False False False False False False False False False False False\n",
      "  True False False False False False False False False False False False\n",
      " False]\n"
     ]
    },
    {
     "data": {
      "text/plain": [
       "(Array([[-1.6000000e+00, -1.6000000e+00],\n",
       "        [-8.0000007e-01, -1.6000000e+00],\n",
       "        [-2.9802322e-08, -1.6000000e+00],\n",
       "        [ 8.0000007e-01, -1.6000000e+00],\n",
       "        [ 1.6000000e+00, -1.6000000e+00],\n",
       "        [-1.6000000e+00, -8.0000007e-01],\n",
       "        [-8.0000007e-01, -8.0000007e-01],\n",
       "        [-2.9802322e-08, -8.0000007e-01],\n",
       "        [ 8.0000007e-01, -8.0000007e-01],\n",
       "        [ 1.6000000e+00, -8.0000007e-01],\n",
       "        [-1.6000000e+00, -2.9802322e-08],\n",
       "        [-8.0000007e-01, -2.9802322e-08],\n",
       "        [ 8.0000007e-01, -2.9802322e-08],\n",
       "        [ 1.6000000e+00, -2.9802322e-08],\n",
       "        [-1.6000000e+00,  8.0000007e-01],\n",
       "        [-8.0000007e-01,  8.0000007e-01],\n",
       "        [-2.9802322e-08,  8.0000007e-01],\n",
       "        [ 8.0000007e-01,  8.0000007e-01],\n",
       "        [ 1.6000000e+00,  8.0000007e-01],\n",
       "        [-1.6000000e+00,  1.6000000e+00],\n",
       "        [-8.0000007e-01,  1.6000000e+00],\n",
       "        [-2.9802322e-08,  1.6000000e+00],\n",
       "        [ 8.0000007e-01,  1.6000000e+00],\n",
       "        [ 1.6000000e+00,  1.6000000e+00]], dtype=float32),\n",
       " Array(0.79999995, dtype=float32))"
      ]
     },
     "execution_count": 22,
     "metadata": {},
     "output_type": "execute_result"
    }
   ],
   "source": [
    "from rsm_verifier import Verifier\n",
    "verifier.get_domain_jitter_grid(10)"
   ]
  },
  {
   "cell_type": "code",
   "execution_count": null,
   "metadata": {},
   "outputs": [],
   "source": []
  }
 ],
 "metadata": {
  "kernelspec": {
   "display_name": "Python 3",
   "language": "python",
   "name": "python3"
  },
  "language_info": {
   "codemirror_mode": {
    "name": "ipython",
    "version": 3
   },
   "file_extension": ".py",
   "mimetype": "text/x-python",
   "name": "python",
   "nbconvert_exporter": "python",
   "pygments_lexer": "ipython3",
   "version": "3.10.14"
  }
 },
 "nbformat": 4,
 "nbformat_minor": 2
}
