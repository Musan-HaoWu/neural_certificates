{
 "cells": [
  {
   "cell_type": "code",
   "execution_count": 1,
   "metadata": {},
   "outputs": [],
   "source": [
    "%load_ext autoreload\n",
    "%autoreload 2"
   ]
  },
  {
   "cell_type": "code",
   "execution_count": 2,
   "metadata": {},
   "outputs": [
    {
     "name": "stderr",
     "output_type": "stream",
     "text": [
      "2025-01-06 19:36:15.133123: E external/local_xla/xla/stream_executor/cuda/cuda_fft.cc:485] Unable to register cuFFT factory: Attempting to register factory for plugin cuFFT when one has already been registered\n",
      "2025-01-06 19:36:15.173785: E external/local_xla/xla/stream_executor/cuda/cuda_dnn.cc:8454] Unable to register cuDNN factory: Attempting to register factory for plugin cuDNN when one has already been registered\n",
      "2025-01-06 19:36:15.186514: E external/local_xla/xla/stream_executor/cuda/cuda_blas.cc:1452] Unable to register cuBLAS factory: Attempting to register factory for plugin cuBLAS when one has already been registered\n"
     ]
    }
   ],
   "source": [
    "import argparse\n",
    "import os\n",
    "import sys\n",
    "import jax\n",
    "import jax.numpy as jnp\n",
    "import jax.random\n",
    "from gymnasium import spaces\n",
    "from tqdm import tqdm\n",
    "\n",
    "from klax import lipschitz_l1_jax, triangular\n",
    "from rl_environments import Vandelpol\n",
    "# from rl_environments import LDSEnv, InvertedPendulum, CollisionAvoidanceEnv, Vandelpol\n",
    "from rsm_learner import Learner\n",
    "from rsm_verifier import Verifier\n",
    "import time\n",
    "import numpy as np\n",
    "import matplotlib.pyplot as plt\n",
    "import seaborn as sns"
   ]
  },
  {
   "cell_type": "code",
   "execution_count": 3,
   "metadata": {},
   "outputs": [],
   "source": [
    "parser = argparse.ArgumentParser(\n",
    "    prog='System Normalization for Neural Certificates',\n",
    "    description='Learning a reach-avoid supermartingale neural network with normalization techniques',\n",
    "    epilog='By Musan (Hao Wu) @ SKLCS, Institute of Software, UCAS'\n",
    ")\n",
    "# problem formulation    \n",
    "parser.add_argument(\"--env\", default=\"vandelpol\", help='control system')\n",
    "parser.add_argument(\"--timeout\", default=60, type=int, help='max time limit in minutes') \n",
    "parser.add_argument(\"--reach_prob\", default=0.8, type=float, help='reach-avoid probability')\n",
    "\n",
    "# neural network and training\n",
    "parser.add_argument(\"--hidden\", default=128, type=int, help='hidden neurons in each layer')\n",
    "parser.add_argument(\"--num_layers\", default=2, type=int, help='number of hidden layers')\n",
    "# learner \n",
    "parser.add_argument(\"--continue_rsm\", type=int, default=0, help='use an existing network')\n",
    "\n",
    "# verifier\n",
    "parser.add_argument(\"--eps\", default=0.05, type=float) # ???\n",
    "parser.add_argument(\"--lip\", default=0.01, type=float) # ???\n",
    "# parser.add_argument(\"--p_lip\", default=0.0, type=float) \n",
    "parser.add_argument(\"--l_lip\", default=4.0, type=float) # ???\n",
    "parser.add_argument(\"--fail_check_fast\", type=int, default=0)\n",
    "parser.add_argument(\"--grid_factor\", default=1.0, type=float)\n",
    "parser.add_argument(\"--batch_size\", default=512, type=int)\n",
    "# parser.add_argument(\"--ppo_iters\", default=50, type=int)\n",
    "# parser.add_argument(\"--policy\", default=\"policies/lds0_zero.jax\")\n",
    "# parser.add_argument(\"--train_p\", type=int, default=1)\n",
    "parser.add_argument(\"--square_l_output\", default=True)\n",
    "parser.add_argument(\"--jitter_grid\", type=int, default=0)\n",
    "parser.add_argument(\"--soft_constraint\", type=int, default=1)\n",
    "parser.add_argument(\"--gamma_decrease\", default=1.0, type=float)\n",
    "parser.add_argument(\"--debug_k0\", action=\"store_true\")\n",
    "parser.add_argument(\"--gen_plot\", action=\"store_true\")\n",
    "parser.add_argument(\"--no_refinement\", action=\"store_true\")\n",
    "parser.add_argument(\"--plot\", action=\"store_true\")\n",
    "parser.add_argument(\"--small_mem\", action=\"store_true\")\n",
    "sys.argv = ['test.ipynb', '--env', 'vandelpol']\n",
    "args = parser.parse_args()"
   ]
  },
  {
   "cell_type": "code",
   "execution_count": 4,
   "metadata": {},
   "outputs": [
    {
     "name": "stderr",
     "output_type": "stream",
     "text": [
      "/home/wuhao/micromamba/envs/nc/lib/python3.10/site-packages/gymnasium/spaces/box.py:130: UserWarning: \u001b[33mWARN: Box bound precision lowered by casting to float32\u001b[0m\n",
      "  gym.logger.warn(f\"Box bound precision lowered by casting to {self.dtype}\")\n"
     ]
    }
   ],
   "source": [
    "env = Vandelpol()\n",
    "learner = Learner(\n",
    "    env=env,\n",
    "    l_hidden=[args.hidden] * args.num_layers,\n",
    "    l_lip=args.l_lip,\n",
    "    eps=args.eps,\n",
    "    gamma_decrease=args.gamma_decrease,\n",
    "    reach_prob=args.reach_prob,\n",
    "    softplus_l_output=args.square_l_output,\n",
    ")"
   ]
  },
  {
   "cell_type": "code",
   "execution_count": 5,
   "metadata": {},
   "outputs": [],
   "source": [
    "verifier = Verifier(\n",
    "    learner=learner,\n",
    "    env=env,\n",
    "    batch_size=args.batch_size,\n",
    "    reach_prob=args.reach_prob,\n",
    "    fail_check_fast=bool(args.fail_check_fast),\n",
    "    grid_factor=args.grid_factor,\n",
    "    small_mem=args.small_mem,\n",
    ")"
   ]
  },
  {
   "cell_type": "code",
   "execution_count": 6,
   "metadata": {},
   "outputs": [],
   "source": [
    "from rsm_loop import RSMLoop\n",
    "loop = RSMLoop( \n",
    "        learner,\n",
    "        verifier,\n",
    "        env,\n",
    "        lip_factor=args.lip,\n",
    "        plot=args.plot,\n",
    "        # train_p=bool(args.train_p),#???\n",
    "        jitter_grid=bool(args.jitter_grid),#???\n",
    "        soft_constraint=bool(args.soft_constraint),#???\n",
    "    )\n",
    "\n",
    "\n",
    "# txt_return = learner.evaluate_rl()\n",
    "loop.plot_l(f\"plots/{args.env}_start.png\")"
   ]
  },
  {
   "cell_type": "code",
   "execution_count": 7,
   "metadata": {},
   "outputs": [
    {
     "name": "stdout",
     "output_type": "stream",
     "text": [
      "\n",
      "## Iteration 0 (0:01 elapsed) ##\n",
      "use train buffer.\n"
     ]
    },
    {
     "name": "stderr",
     "output_type": "stream",
     "text": [
      "Train: loss=0.687, dec_loss=0.355, violations=0.539: 100%|██████████| 100/100 [00:49<00:00,  2.03it/s]\n"
     ]
    },
    {
     "name": "stdout",
     "output_type": "stream",
     "text": [
      "Trained on 40000 samples, start_loss=7.4, end_loss=0.687, start_violations=0.542, end_violations=0.539 in 49.3 seconds\n"
     ]
    },
    {
     "ename": "AttributeError",
     "evalue": "'list' object has no attribute 'low'",
     "output_type": "error",
     "traceback": [
      "\u001b[0;31m---------------------------------------------------------------------------\u001b[0m",
      "\u001b[0;31mAttributeError\u001b[0m                            Traceback (most recent call last)",
      "Cell \u001b[0;32mIn[7], line 1\u001b[0m\n\u001b[0;32m----> 1\u001b[0m \u001b[43mloop\u001b[49m\u001b[38;5;241;43m.\u001b[39;49m\u001b[43mrun\u001b[49m\u001b[43m(\u001b[49m\u001b[43margs\u001b[49m\u001b[38;5;241;43m.\u001b[39;49m\u001b[43mtimeout\u001b[49m\u001b[38;5;241;43m*\u001b[39;49m\u001b[38;5;241;43m10\u001b[39;49m\u001b[43m)\u001b[49m\n",
      "File \u001b[0;32m~/neural_certificates/rsm_loop.py:125\u001b[0m, in \u001b[0;36mRSMLoop.run\u001b[0;34m(self, timeout)\u001b[0m\n\u001b[1;32m    122\u001b[0m \u001b[38;5;28mself\u001b[39m\u001b[38;5;241m.\u001b[39minfo[\u001b[38;5;124m\"\u001b[39m\u001b[38;5;124miter\u001b[39m\u001b[38;5;124m\"\u001b[39m] \u001b[38;5;241m=\u001b[39m \u001b[38;5;28mself\u001b[39m\u001b[38;5;241m.\u001b[39miter\n\u001b[1;32m    123\u001b[0m \u001b[38;5;28mself\u001b[39m\u001b[38;5;241m.\u001b[39minfo[\u001b[38;5;124m\"\u001b[39m\u001b[38;5;124mruntime\u001b[39m\u001b[38;5;124m\"\u001b[39m] \u001b[38;5;241m=\u001b[39m runtime\n\u001b[0;32m--> 125\u001b[0m sat, hard_violations, info \u001b[38;5;241m=\u001b[39m \u001b[38;5;28;43mself\u001b[39;49m\u001b[38;5;241;43m.\u001b[39;49m\u001b[43mverifier\u001b[49m\u001b[38;5;241;43m.\u001b[39;49m\u001b[43mcheck_dec_cond\u001b[49m\u001b[43m(\u001b[49m\u001b[43mlipschitz_k\u001b[49m\u001b[43m)\u001b[49m\n\u001b[1;32m    126\u001b[0m \u001b[38;5;28;01mfor\u001b[39;00m k, v \u001b[38;5;129;01min\u001b[39;00m info\u001b[38;5;241m.\u001b[39mitems():\n\u001b[1;32m    127\u001b[0m     \u001b[38;5;28mself\u001b[39m\u001b[38;5;241m.\u001b[39minfo[k] \u001b[38;5;241m=\u001b[39m v\n",
      "File \u001b[0;32m~/neural_certificates/rsm_verifier.py:464\u001b[0m, in \u001b[0;36mVerifier.check_dec_cond\u001b[0;34m(self, lipschitz_k)\u001b[0m\n\u001b[1;32m    461\u001b[0m \u001b[38;5;28;01melse\u001b[39;00m:\n\u001b[1;32m    462\u001b[0m     n \u001b[38;5;241m=\u001b[39m \u001b[38;5;241m50\u001b[39m\n\u001b[0;32m--> 464\u001b[0m _, ub_init \u001b[38;5;241m=\u001b[39m \u001b[38;5;28;43mself\u001b[39;49m\u001b[38;5;241;43m.\u001b[39;49m\u001b[43mcompute_bound_init\u001b[49m\u001b[43m(\u001b[49m\u001b[43mn\u001b[49m\u001b[43m)\u001b[49m\n\u001b[1;32m    465\u001b[0m domain_min, _ \u001b[38;5;241m=\u001b[39m \u001b[38;5;28mself\u001b[39m\u001b[38;5;241m.\u001b[39mcompute_bound_domain(n)\n\u001b[1;32m    466\u001b[0m \u001b[38;5;66;03m# ub_init = 10\u001b[39;00m\n\u001b[1;32m    467\u001b[0m \u001b[38;5;66;03m# domain_min = 0\u001b[39;00m\n\u001b[1;32m    468\u001b[0m \n\u001b[1;32m    469\u001b[0m \u001b[38;5;66;03m# state_grid = self.get_filtered_grid(n=self.grid_size)\u001b[39;00m\n",
      "File \u001b[0;32m~/neural_certificates/rsm_verifier.py:298\u001b[0m, in \u001b[0;36mVerifier.compute_bound_init\u001b[0;34m(self, n)\u001b[0m\n\u001b[1;32m    292\u001b[0m     mask \u001b[38;5;241m=\u001b[39m np\u001b[38;5;241m.\u001b[39mlogical_or(\n\u001b[1;32m    293\u001b[0m         mask,\n\u001b[1;32m    294\u001b[0m         intersect,\n\u001b[1;32m    295\u001b[0m     )\n\u001b[1;32m    297\u001b[0m \u001b[38;5;66;03m# Exclude if both lb AND ub are in the target set\u001b[39;00m\n\u001b[0;32m--> 298\u001b[0m contains_lb \u001b[38;5;241m=\u001b[39m \u001b[43mv_contains\u001b[49m\u001b[43m(\u001b[49m\u001b[38;5;28;43mself\u001b[39;49m\u001b[38;5;241;43m.\u001b[39;49m\u001b[43menv\u001b[49m\u001b[38;5;241;43m.\u001b[39;49m\u001b[43mtarget_spaces\u001b[49m\u001b[43m,\u001b[49m\u001b[43m \u001b[49m\u001b[43mgrid_lb\u001b[49m\u001b[43m)\u001b[49m\n\u001b[1;32m    299\u001b[0m contains_ub \u001b[38;5;241m=\u001b[39m v_contains(\u001b[38;5;28mself\u001b[39m\u001b[38;5;241m.\u001b[39menv\u001b[38;5;241m.\u001b[39mtarget_spaces, grid_ub)\n\u001b[1;32m    300\u001b[0m mask \u001b[38;5;241m=\u001b[39m np\u001b[38;5;241m.\u001b[39mlogical_and(\n\u001b[1;32m    301\u001b[0m     mask, np\u001b[38;5;241m.\u001b[39mlogical_not(np\u001b[38;5;241m.\u001b[39mlogical_and(contains_lb, contains_ub))\n\u001b[1;32m    302\u001b[0m )\n",
      "File \u001b[0;32m~/neural_certificates/rsm_verifier.py:21\u001b[0m, in \u001b[0;36mv_contains\u001b[0;34m(box, states)\u001b[0m\n\u001b[1;32m     20\u001b[0m \u001b[38;5;28;01mdef\u001b[39;00m \u001b[38;5;21mv_contains\u001b[39m(box, states):\n\u001b[0;32m---> 21\u001b[0m     b_low \u001b[38;5;241m=\u001b[39m np\u001b[38;5;241m.\u001b[39mexpand_dims(\u001b[43mbox\u001b[49m\u001b[38;5;241;43m.\u001b[39;49m\u001b[43mlow\u001b[49m, axis\u001b[38;5;241m=\u001b[39m\u001b[38;5;241m0\u001b[39m)\n\u001b[1;32m     22\u001b[0m     b_high \u001b[38;5;241m=\u001b[39m np\u001b[38;5;241m.\u001b[39mexpand_dims(box\u001b[38;5;241m.\u001b[39mhigh, axis\u001b[38;5;241m=\u001b[39m\u001b[38;5;241m0\u001b[39m)\n\u001b[1;32m     23\u001b[0m     contains \u001b[38;5;241m=\u001b[39m np\u001b[38;5;241m.\u001b[39mlogical_and(\n\u001b[1;32m     24\u001b[0m         np\u001b[38;5;241m.\u001b[39mall(states \u001b[38;5;241m>\u001b[39m\u001b[38;5;241m=\u001b[39m b_low, axis\u001b[38;5;241m=\u001b[39m\u001b[38;5;241m1\u001b[39m), np\u001b[38;5;241m.\u001b[39mall(states \u001b[38;5;241m<\u001b[39m\u001b[38;5;241m=\u001b[39m b_high, axis\u001b[38;5;241m=\u001b[39m\u001b[38;5;241m1\u001b[39m)\n\u001b[1;32m     25\u001b[0m     )\n",
      "\u001b[0;31mAttributeError\u001b[0m: 'list' object has no attribute 'low'"
     ]
    }
   ],
   "source": [
    "loop.run(args.timeout*10)"
   ]
  },
  {
   "cell_type": "code",
   "execution_count": 9,
   "metadata": {},
   "outputs": [],
   "source": [
    "init = env.init_spaces[0]"
   ]
  },
  {
   "cell_type": "code",
   "execution_count": 10,
   "metadata": {},
   "outputs": [
    {
     "data": {
      "text/plain": [
       "array([-0.2,  0.2], dtype=float32)"
      ]
     },
     "execution_count": 10,
     "metadata": {},
     "output_type": "execute_result"
    }
   ],
   "source": [
    "init.low"
   ]
  },
  {
   "cell_type": "code",
   "execution_count": 13,
   "metadata": {},
   "outputs": [
    {
     "ename": "TypeError",
     "evalue": "'Box' object is not iterable",
     "output_type": "error",
     "traceback": [
      "\u001b[0;31m---------------------------------------------------------------------------\u001b[0m",
      "\u001b[0;31mTypeError\u001b[0m                                 Traceback (most recent call last)",
      "Cell \u001b[0;32mIn[13], line 23\u001b[0m\n\u001b[1;32m     17\u001b[0m b \u001b[38;5;241m=\u001b[39m spaces\u001b[38;5;241m.\u001b[39mBox(\n\u001b[1;32m     18\u001b[0m             low \u001b[38;5;241m=\u001b[39m np\u001b[38;5;241m.\u001b[39marray([\u001b[38;5;241m-\u001b[39m\u001b[38;5;241m2.0\u001b[39m, \u001b[38;5;241m-\u001b[39m\u001b[38;5;241m2.0\u001b[39m], dtype\u001b[38;5;241m=\u001b[39mjnp\u001b[38;5;241m.\u001b[39mfloat32),  \n\u001b[1;32m     19\u001b[0m             high \u001b[38;5;241m=\u001b[39m np\u001b[38;5;241m.\u001b[39marray([\u001b[38;5;241m2.0\u001b[39m, \u001b[38;5;241m2.0\u001b[39m], dtype\u001b[38;5;241m=\u001b[39mjnp\u001b[38;5;241m.\u001b[39mfloat32),\n\u001b[1;32m     20\u001b[0m             dtype\u001b[38;5;241m=\u001b[39mjnp\u001b[38;5;241m.\u001b[39mfloat32)\n\u001b[1;32m     21\u001b[0m s \u001b[38;5;241m=\u001b[39m jnp\u001b[38;5;241m.\u001b[39marray([[\u001b[38;5;241m-\u001b[39m\u001b[38;5;241m1.0\u001b[39m, \u001b[38;5;241m1.0\u001b[39m], [\u001b[38;5;241m3.0\u001b[39m, \u001b[38;5;241m1.0\u001b[39m]])\n\u001b[0;32m---> 23\u001b[0m \u001b[43mv_contains\u001b[49m\u001b[43m(\u001b[49m\u001b[43mb\u001b[49m\u001b[43m,\u001b[49m\u001b[43m \u001b[49m\u001b[43ms\u001b[49m\u001b[43m)\u001b[49m\n",
      "Cell \u001b[0;32mIn[13], line 8\u001b[0m, in \u001b[0;36mv_contains\u001b[0;34m(boxs, states)\u001b[0m\n\u001b[1;32m      2\u001b[0m \u001b[38;5;250m\u001b[39m\u001b[38;5;124;03m'''\u001b[39;00m\n\u001b[1;32m      3\u001b[0m \u001b[38;5;124;03mCheck if a vector of states is contained in any of the boxes\u001b[39;00m\n\u001b[1;32m      4\u001b[0m \u001b[38;5;124;03mReturn:\u001b[39;00m\n\u001b[1;32m      5\u001b[0m \u001b[38;5;124;03m    contains: a boolean vector of length states.shape[0]\u001b[39;00m\n\u001b[1;32m      6\u001b[0m \u001b[38;5;124;03m'''\u001b[39;00m\n\u001b[1;32m      7\u001b[0m contains \u001b[38;5;241m=\u001b[39m np\u001b[38;5;241m.\u001b[39mzeros(states\u001b[38;5;241m.\u001b[39mshape[\u001b[38;5;241m0\u001b[39m], dtype\u001b[38;5;241m=\u001b[39mjnp\u001b[38;5;241m.\u001b[39mbool)\n\u001b[0;32m----> 8\u001b[0m \u001b[38;5;28;01mfor\u001b[39;00m box \u001b[38;5;129;01min\u001b[39;00m boxs:\n\u001b[1;32m      9\u001b[0m     b_low \u001b[38;5;241m=\u001b[39m np\u001b[38;5;241m.\u001b[39mexpand_dims(box\u001b[38;5;241m.\u001b[39mlow, axis\u001b[38;5;241m=\u001b[39m\u001b[38;5;241m0\u001b[39m)\n\u001b[1;32m     10\u001b[0m     b_high \u001b[38;5;241m=\u001b[39m np\u001b[38;5;241m.\u001b[39mexpand_dims(box\u001b[38;5;241m.\u001b[39mhigh, axis\u001b[38;5;241m=\u001b[39m\u001b[38;5;241m0\u001b[39m)\n",
      "\u001b[0;31mTypeError\u001b[0m: 'Box' object is not iterable"
     ]
    }
   ],
   "source": [
    "def v_contains(boxs, states):\n",
    "    '''\n",
    "    Check if a vector of states is contained in any of the boxes\n",
    "    Return:\n",
    "        contains: a boolean vector of length states.shape[0]\n",
    "    '''\n",
    "    contains = np.zeros(states.shape[0], dtype=jnp.bool)\n",
    "    for box in boxs:\n",
    "        b_low = np.expand_dims(box.low, axis=0)\n",
    "        b_high = np.expand_dims(box.high, axis=0)\n",
    "        mask = np.logical_and(\n",
    "            np.all(states >= b_low, axis=1), np.all(states <= b_high, axis=1)\n",
    "        )\n",
    "        contains = np.logical_or(mask, contains)\n",
    "    return contains\n",
    "\n",
    "b = [spaces.Box(\n",
    "            low = np.array([-2.0, -2.0], dtype=jnp.float32),  \n",
    "            high = np.array([2.0, 2.0], dtype=jnp.float32),\n",
    "            dtype=jnp.float32)]\n",
    "s = jnp.array([[-1.0, 1.0], [3.0, 1.0]])\n",
    "\n",
    "v_contains(b, s)"
   ]
  },
  {
   "cell_type": "code",
   "execution_count": null,
   "metadata": {},
   "outputs": [],
   "source": []
  }
 ],
 "metadata": {
  "kernelspec": {
   "display_name": "Python 3",
   "language": "python",
   "name": "python3"
  },
  "language_info": {
   "codemirror_mode": {
    "name": "ipython",
    "version": 3
   },
   "file_extension": ".py",
   "mimetype": "text/x-python",
   "name": "python",
   "nbconvert_exporter": "python",
   "pygments_lexer": "ipython3",
   "version": "3.10.14"
  }
 },
 "nbformat": 4,
 "nbformat_minor": 2
}
