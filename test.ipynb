{
 "cells": [
  {
   "cell_type": "code",
   "execution_count": null,
   "metadata": {},
   "outputs": [],
   "source": [
    "%load_ext autoreload\n",
    "%autoreload 2"
   ]
  },
  {
   "cell_type": "code",
   "execution_count": 245,
   "metadata": {},
   "outputs": [],
   "source": [
    "import gymnasium as gym\n",
    "from gymnasium import spaces\n",
    "import jax\n",
    "import jax.numpy as jnp\n",
    "\n",
    "import numpy as np\n",
    "\n",
    "from os import path\n",
    "# from scipy.stats import triang\n",
    "from functools import partial\n",
    "# import matplotlib.pyplot as plt\n",
    "import os\n",
    "# from klax import triangular, make_unsafe_spaces, contained_in_any\n",
    "\n"
   ]
  },
  {
   "cell_type": "code",
   "execution_count": 258,
   "metadata": {},
   "outputs": [
    {
     "name": "stdout",
     "output_type": "stream",
     "text": [
      "[[-0.19489497  0.4512635 ]\n",
      " [ 0.11745233  0.2637241 ]\n",
      " [ 0.07182688  0.31471875]\n",
      " [ 0.01762978  0.50003624]\n",
      " [ 0.14580959  0.47152242]]\n"
     ]
    },
    {
     "name": "stderr",
     "output_type": "stream",
     "text": [
      "/home/wuhao/micromamba/envs/nc/lib/python3.10/site-packages/gymnasium/spaces/box.py:130: UserWarning: \u001b[33mWARN: Box bound precision lowered by casting to float32\u001b[0m\n",
      "  gym.logger.warn(f\"Box bound precision lowered by casting to {self.dtype}\")\n"
     ]
    }
   ],
   "source": [
    "from rl_environments import Vandelpol\n",
    "env = Vandelpol()\n",
    "state = env.reset()\n",
    "\n",
    "rng = jax.random.PRNGKey(2025)\n",
    "rngs = jax.random.split(rng, 5)\n",
    "samples = jnp.array([env.init_space.sample() for _ in range(5)])\n",
    "print(samples)\n"
   ]
  },
  {
   "cell_type": "code",
   "execution_count": 260,
   "metadata": {},
   "outputs": [
    {
     "name": "stdout",
     "output_type": "stream",
     "text": [
      "[[[-0.28514767  0.40968606]]\n",
      "\n",
      " [[ 0.06470752  0.2539832 ]]\n",
      "\n",
      " [[ 0.00888313  0.29425624]]\n",
      "\n",
      " [[-0.08237747  0.4758975 ]]\n",
      "\n",
      " [[ 0.0515051   0.45784405]]]\n"
     ]
    }
   ],
   "source": [
    "s_next = jnp.expand_dims(env.v_next(samples,rngs), axis=1)\n",
    "print(s_next)"
   ]
  },
  {
   "cell_type": "code",
   "execution_count": 247,
   "metadata": {},
   "outputs": [
    {
     "name": "stdout",
     "output_type": "stream",
     "text": [
      "[[-0.1097627   0.31561857]\n",
      " [ 0.03964382  0.50550896]\n",
      " [-0.08534091  0.23951039]\n",
      " [ 0.19517188  0.34240845]\n",
      " [-0.17276113  0.5143665 ]]\n",
      "[-0.1097627   0.03964382 -0.08534091  0.19517188 -0.17276113]\n"
     ]
    }
   ],
   "source": [
    "\n",
    "def func(a):\n",
    "    return a[0]\n",
    "\n",
    "samples = jnp.array([env.init_space.sample() for _ in range(5)])\n",
    "print(samples)\n",
    "vfunc = jax.vmap(func)\n",
    "result = vfunc(samples)\n",
    "print(result)"
   ]
  },
  {
   "cell_type": "code",
   "execution_count": 275,
   "metadata": {},
   "outputs": [
    {
     "name": "stdout",
     "output_type": "stream",
     "text": [
      "[array([-1. , -0.5,  0. ,  0.5, -1. , -0.5,  0. ,  0.5, -1. , -0.5,  0. ,\n",
      "        0.5, -1. , -0.5,  0. ,  0.5]), array([-1. , -1. , -1. , -1. , -0.5, -0.5, -0.5, -0.5,  0. ,  0. ,  0. ,\n",
      "        0. ,  0.5,  0.5,  0.5,  0.5])]\n",
      "[array([-0.5,  0. ,  0.5,  1. , -0.5,  0. ,  0.5,  1. , -0.5,  0. ,  0.5,\n",
      "        1. , -0.5,  0. ,  0.5,  1. ]), array([-0.5, -0.5, -0.5, -0.5,  0. ,  0. ,  0. ,  0. ,  0.5,  0.5,  0.5,\n",
      "        0.5,  1. ,  1. ,  1. ,  1. ])]\n"
     ]
    }
   ],
   "source": [
    "dims = 2\n",
    "grid, steps = [], []\n",
    "for i in range(dims):\n",
    "    samples, step = np.linspace(\n",
    "        -1,\n",
    "        1,\n",
    "        4,\n",
    "        endpoint=False,\n",
    "        retstep=True,\n",
    "    )\n",
    "    grid.append(samples)\n",
    "    steps.append(step)\n",
    "# print(grid)\n",
    "\n",
    "grid = np.meshgrid(*grid)\n",
    "print(grid)\n",
    "grid_lb = [x.flatten() for x in grid]\n",
    "grid_ub = [grid_lb[i] + steps[i] for i in range(dims)]\n",
    "grid_centers = [grid_lb[i] + steps[i] / 2 for i in range(dims)]\n",
    "print(grid_lb)\n",
    "print(grid_ub)\n",
    "# grid_lb = np.stack(grid_lb, axis=1)\n",
    "# grid_ub = np.stack(grid_ub, axis=1)\n",
    "# grid_centers = np.stack(grid_centers, axis=1)"
   ]
  },
  {
   "cell_type": "code",
   "execution_count": 8,
   "metadata": {},
   "outputs": [
    {
     "name": "stdout",
     "output_type": "stream",
     "text": [
      "Composite space: Tuple(Box(0.0, 1.0, (3,), float64), Discrete(5), MultiBinary(4))\n",
      "Sample from composite space: (array([0.12005234, 0.33023144, 0.47497074]), 2, array([0, 1, 0, 0], dtype=int8))\n"
     ]
    }
   ],
   "source": [
    "# Define individual spaces\n",
    "space1 = spaces.Box(low=0, high=1, shape=(3,), dtype=float)  # Continuous space with shape (3,)\n",
    "space2 = spaces.Discrete(5)  # Discrete space with 5 possible values\n",
    "space3 = spaces.MultiBinary(4)  # Multi-binary space with shape (4,)\n",
    "\n",
    "# Combine spaces using spaces.Tuple\n",
    "composite_space = spaces.Tuple((space1, space2, space3))\n",
    "\n",
    "# Example usage\n",
    "print(\"Composite space:\", composite_space)\n",
    "print(\"Sample from composite space:\", composite_space.sample())"
   ]
  },
  {
   "cell_type": "code",
   "execution_count": null,
   "metadata": {},
   "outputs": [],
   "source": []
  }
 ],
 "metadata": {
  "kernelspec": {
   "display_name": "Python 3",
   "language": "python",
   "name": "python3"
  },
  "language_info": {
   "codemirror_mode": {
    "name": "ipython",
    "version": 3
   },
   "file_extension": ".py",
   "mimetype": "text/x-python",
   "name": "python",
   "nbconvert_exporter": "python",
   "pygments_lexer": "ipython3",
   "version": "3.10.14"
  }
 },
 "nbformat": 4,
 "nbformat_minor": 2
}
