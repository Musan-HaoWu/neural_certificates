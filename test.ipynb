{
 "cells": [
  {
   "cell_type": "code",
   "execution_count": 80,
   "metadata": {},
   "outputs": [
    {
     "name": "stdout",
     "output_type": "stream",
     "text": [
      "The autoreload extension is already loaded. To reload it, use:\n",
      "  %reload_ext autoreload\n"
     ]
    }
   ],
   "source": [
    "%load_ext autoreload\n",
    "%autoreload 2"
   ]
  },
  {
   "cell_type": "code",
   "execution_count": 168,
   "metadata": {},
   "outputs": [],
   "source": [
    "import argparse\n",
    "import os\n",
    "import sys\n",
    "import jax\n",
    "import jax.numpy as jnp\n",
    "import jax.random\n",
    "from gymnasium import spaces\n",
    "from tqdm import tqdm\n",
    "\n",
    "from klax import lipschitz_l1_jax, triangular\n",
    "from rl_environments import Vandelpol\n",
    "# from rl_environments import LDSEnv, InvertedPendulum, CollisionAvoidanceEnv, Vandelpol\n",
    "from rsm_learner import Learner\n",
    "from rsm_verifier import Verifier\n",
    "import time\n",
    "import numpy as np\n",
    "import matplotlib.pyplot as plt\n",
    "import seaborn as sns"
   ]
  },
  {
   "cell_type": "code",
   "execution_count": 82,
   "metadata": {},
   "outputs": [],
   "source": [
    "parser = argparse.ArgumentParser(\n",
    "    prog='System Normalization for Neural Certificates',\n",
    "    description='Learning a reach-avoid supermartingale neural network with normalization techniques',\n",
    "    epilog='By Musan (Hao Wu) @ SKLCS, Institute of Software, UCAS'\n",
    ")\n",
    "# problem formulation    \n",
    "parser.add_argument(\"--env\", default=\"vandelpol\", help='control system')\n",
    "parser.add_argument(\"--timeout\", default=60, type=int, help='max time limit in minutes') \n",
    "parser.add_argument(\"--reach_prob\", default=0.8, type=float, help='reach-avoid probability')\n",
    "\n",
    "# neural network and training\n",
    "parser.add_argument(\"--hidden\", default=128, type=int, help='hidden neurons in each layer')\n",
    "parser.add_argument(\"--num_layers\", default=2, type=int, help='number of hidden layers')\n",
    "# learner \n",
    "parser.add_argument(\"--continue_rsm\", type=int, default=0, help='use an existing network')\n",
    "\n",
    "# verifier\n",
    "parser.add_argument(\"--eps\", default=0.05, type=float) # ???\n",
    "parser.add_argument(\"--lip\", default=0.01, type=float) # ???\n",
    "# parser.add_argument(\"--p_lip\", default=0.0, type=float) \n",
    "parser.add_argument(\"--l_lip\", default=4.0, type=float) # ???\n",
    "parser.add_argument(\"--fail_check_fast\", type=int, default=0)\n",
    "parser.add_argument(\"--grid_factor\", default=1.0, type=float)\n",
    "parser.add_argument(\"--batch_size\", default=512, type=int)\n",
    "# parser.add_argument(\"--ppo_iters\", default=50, type=int)\n",
    "# parser.add_argument(\"--policy\", default=\"policies/lds0_zero.jax\")\n",
    "# parser.add_argument(\"--train_p\", type=int, default=1)\n",
    "parser.add_argument(\"--square_l_output\", default=True)\n",
    "parser.add_argument(\"--jitter_grid\", type=int, default=0)\n",
    "parser.add_argument(\"--soft_constraint\", type=int, default=1)\n",
    "parser.add_argument(\"--gamma_decrease\", default=1.0, type=float)\n",
    "parser.add_argument(\"--debug_k0\", action=\"store_true\")\n",
    "parser.add_argument(\"--gen_plot\", action=\"store_true\")\n",
    "parser.add_argument(\"--no_refinement\", action=\"store_true\")\n",
    "parser.add_argument(\"--plot\", action=\"store_true\")\n",
    "parser.add_argument(\"--small_mem\", action=\"store_true\")\n",
    "sys.argv = ['test.ipynb', '--env', 'vandelpol']\n",
    "args = parser.parse_args()"
   ]
  },
  {
   "cell_type": "code",
   "execution_count": 154,
   "metadata": {},
   "outputs": [],
   "source": [
    "env = Vandelpol()\n",
    "learner = Learner(\n",
    "    env=env,\n",
    "    l_hidden=[args.hidden] * args.num_layers,\n",
    "    l_lip=args.l_lip,\n",
    "    eps=args.eps,\n",
    "    gamma_decrease=args.gamma_decrease,\n",
    "    reach_prob=args.reach_prob,\n",
    "    softplus_l_output=args.square_l_output,\n",
    ")"
   ]
  },
  {
   "cell_type": "code",
   "execution_count": 159,
   "metadata": {},
   "outputs": [],
   "source": [
    "verifier = Verifier(\n",
    "    learner=learner,\n",
    "    env=env,\n",
    "    batch_size=args.batch_size,\n",
    "    reach_prob=args.reach_prob,\n",
    "    fail_check_fast=bool(args.fail_check_fast),\n",
    "    grid_factor=args.grid_factor,\n",
    "    small_mem=args.small_mem,\n",
    ")"
   ]
  },
  {
   "cell_type": "code",
   "execution_count": 160,
   "metadata": {},
   "outputs": [],
   "source": [
    "from rsm_loop import RSMLoop\n",
    "loop = RSMLoop( \n",
    "        learner,\n",
    "        verifier,\n",
    "        env,\n",
    "        lip_factor=args.lip,\n",
    "        plot=args.plot,\n",
    "        jitter_grid=bool(args.jitter_grid),\n",
    "        soft_constraint=bool(args.soft_constraint),\n",
    "    )\n",
    "\n",
    "\n",
    "# txt_return = learner.evaluate_rl()\n",
    "# loop.plot_l(f\"plots/{args.env}_start.png\")"
   ]
  },
  {
   "cell_type": "code",
   "execution_count": 86,
   "metadata": {},
   "outputs": [
    {
     "name": "stdout",
     "output_type": "stream",
     "text": [
      "\n",
      "## Iteration 0 (0:00 elapsed) ##\n",
      "use train buffer.\n"
     ]
    },
    {
     "name": "stderr",
     "output_type": "stream",
     "text": [
      "Train: loss=43.4, dec_loss=34, violations=0.504: 100%|██████████| 100/100 [01:12<00:00,  1.37it/s]\n"
     ]
    },
    {
     "name": "stdout",
     "output_type": "stream",
     "text": [
      "Trained on 40000 samples, start_loss=7.3, end_loss=43.4, start_violations=0.499, end_violations=0.504 in 1.2 minutes\n"
     ]
    },
    {
     "name": "stderr",
     "output_type": "stream",
     "text": [
      "100%|██████████| 1/1 [00:02<00:00,  2.51s/it]\n",
      "100%|██████████| 74/74 [00:07<00:00, 10.37it/s]\n"
     ]
    },
    {
     "name": "stdout",
     "output_type": "stream",
     "text": [
      "lipschitz_k=1932.7548828125 (without delta)\n",
      "delta=0.008016032064128256\n",
      "K=15.49302511272545 (with delta)\n",
      "Checking GRID of size 500\n"
     ]
    },
    {
     "name": "stderr",
     "output_type": "stream",
     "text": [
      "100%|██████████| 1/1 [02:53<00:00, 173.72s/it]\n"
     ]
    },
    {
     "name": "stdout",
     "output_type": "stream",
     "text": [
      "violations=38920\n",
      "hard_violations=38636\n",
      "38920/250000 violated decrease condition\n",
      "38636/250000 hard violations\n",
      "Train buffer len: 78636\n",
      "Grid runtime=3 min\n",
      "info= {'ds_size': 40000, 'lipschitz_k': 1932.7548828125, 'K_f': 4.0, 'K_l': 483.188720703125, 'iter': 0, 'runtime': 0.016546249389648438, 'delta': 0.008016032064128256, 'K': 15.49302511272545, 'avg_increase': 0, 'dec_violations': '38920/250000', 'hard_violations': '38636/250000'}\n",
      "\n",
      "## Iteration 1 (4:20 elapsed) ##\n",
      "use train buffer.\n"
     ]
    },
    {
     "name": "stderr",
     "output_type": "stream",
     "text": []
    },
    {
     "ename": "KeyboardInterrupt",
     "evalue": "",
     "output_type": "error",
     "traceback": [
      "\u001b[0;31m---------------------------------------------------------------------------\u001b[0m",
      "\u001b[0;31mKeyboardInterrupt\u001b[0m                         Traceback (most recent call last)",
      "Cell \u001b[0;32mIn[86], line 1\u001b[0m\n\u001b[0;32m----> 1\u001b[0m \u001b[43mloop\u001b[49m\u001b[38;5;241;43m.\u001b[39;49m\u001b[43mrun\u001b[49m\u001b[43m(\u001b[49m\u001b[43margs\u001b[49m\u001b[38;5;241;43m.\u001b[39;49m\u001b[43mtimeout\u001b[49m\u001b[38;5;241;43m*\u001b[39;49m\u001b[38;5;241;43m10\u001b[39;49m\u001b[43m)\u001b[49m\n",
      "File \u001b[0;32m~/neural_certificates/rsm_loop.py:112\u001b[0m, in \u001b[0;36mRSMLoop.run\u001b[0;34m(self, timeout)\u001b[0m\n\u001b[1;32m    108\u001b[0m     \u001b[38;5;28mprint\u001b[39m(\u001b[38;5;124m\"\u001b[39m\u001b[38;5;124m[SAVED]\u001b[39m\u001b[38;5;124m\"\u001b[39m)\n\u001b[1;32m    110\u001b[0m \u001b[38;5;28mprint\u001b[39m(\u001b[38;5;124mf\u001b[39m\u001b[38;5;124m\"\u001b[39m\u001b[38;5;130;01m\\n\u001b[39;00m\u001b[38;5;124m## Iteration \u001b[39m\u001b[38;5;132;01m{\u001b[39;00m\u001b[38;5;28mself\u001b[39m\u001b[38;5;241m.\u001b[39miter\u001b[38;5;132;01m}\u001b[39;00m\u001b[38;5;124m (\u001b[39m\u001b[38;5;132;01m{\u001b[39;00mruntime\u001b[38;5;250m \u001b[39m\u001b[38;5;241m/\u001b[39m\u001b[38;5;241m/\u001b[39m\u001b[38;5;250m \u001b[39m\u001b[38;5;241m60\u001b[39m\u001b[38;5;132;01m:\u001b[39;00m\u001b[38;5;124m0.0f\u001b[39m\u001b[38;5;132;01m}\u001b[39;00m\u001b[38;5;124m:\u001b[39m\u001b[38;5;132;01m{\u001b[39;00mruntime\u001b[38;5;250m \u001b[39m\u001b[38;5;241m%\u001b[39m\u001b[38;5;250m \u001b[39m\u001b[38;5;241m60\u001b[39m\u001b[38;5;132;01m:\u001b[39;00m\u001b[38;5;124m02.0f\u001b[39m\u001b[38;5;132;01m}\u001b[39;00m\u001b[38;5;124m elapsed) ##\u001b[39m\u001b[38;5;124m\"\u001b[39m)\n\u001b[0;32m--> 112\u001b[0m \u001b[38;5;28;43mself\u001b[39;49m\u001b[38;5;241;43m.\u001b[39;49m\u001b[43mtrain\u001b[49m\u001b[43m(\u001b[49m\u001b[43m)\u001b[49m\n\u001b[1;32m    114\u001b[0m K_f \u001b[38;5;241m=\u001b[39m \u001b[38;5;28mself\u001b[39m\u001b[38;5;241m.\u001b[39menv\u001b[38;5;241m.\u001b[39mlipschitz_constant\n\u001b[1;32m    115\u001b[0m K_l \u001b[38;5;241m=\u001b[39m lipschitz_l1_jax(\u001b[38;5;28mself\u001b[39m\u001b[38;5;241m.\u001b[39mlearner\u001b[38;5;241m.\u001b[39ml_state\u001b[38;5;241m.\u001b[39mparams)\u001b[38;5;241m.\u001b[39mitem()\n",
      "File \u001b[0;32m~/neural_certificates/rsm_loop.py:69\u001b[0m, in \u001b[0;36mRSMLoop.train\u001b[0;34m(self)\u001b[0m\n\u001b[1;32m     67\u001b[0m pbar \u001b[38;5;241m=\u001b[39m tqdm(total\u001b[38;5;241m=\u001b[39mnum_epochs)\n\u001b[1;32m     68\u001b[0m \u001b[38;5;28;01mfor\u001b[39;00m epoch \u001b[38;5;129;01min\u001b[39;00m \u001b[38;5;28mrange\u001b[39m(num_epochs):\n\u001b[0;32m---> 69\u001b[0m     metrics \u001b[38;5;241m=\u001b[39m \u001b[38;5;28;43mself\u001b[39;49m\u001b[38;5;241;43m.\u001b[39;49m\u001b[43mlearner\u001b[49m\u001b[38;5;241;43m.\u001b[39;49m\u001b[43mtrain_epoch\u001b[49m\u001b[43m(\u001b[49m\n\u001b[1;32m     70\u001b[0m \u001b[43m        \u001b[49m\u001b[43mtrain_ds\u001b[49m\u001b[43m,\u001b[49m\u001b[43m \u001b[49m\u001b[43mcurrent_delta\u001b[49m\u001b[43m,\u001b[49m\u001b[43m \u001b[49m\u001b[38;5;28;43mself\u001b[39;49m\u001b[38;5;241;43m.\u001b[39;49m\u001b[43mlip_factor\u001b[49m\n\u001b[1;32m     71\u001b[0m \u001b[43m    \u001b[49m\u001b[43m)\u001b[49m\n\u001b[1;32m     72\u001b[0m     \u001b[38;5;28;01mif\u001b[39;00m start_metrics \u001b[38;5;129;01mis\u001b[39;00m \u001b[38;5;28;01mNone\u001b[39;00m:\n\u001b[1;32m     73\u001b[0m         start_metrics \u001b[38;5;241m=\u001b[39m metrics\n",
      "File \u001b[0;32m~/neural_certificates/rsm_learner.py:189\u001b[0m, in \u001b[0;36mLearner.train_epoch\u001b[0;34m(self, train_ds, current_delta, lip)\u001b[0m\n\u001b[1;32m    186\u001b[0m     iterator \u001b[38;5;241m=\u001b[39m \u001b[38;5;28mrange\u001b[39m(\u001b[38;5;241m80\u001b[39m)\n\u001b[1;32m    187\u001b[0m     train_ds \u001b[38;5;241m=\u001b[39m jnp\u001b[38;5;241m.\u001b[39marray(train_ds)\n\u001b[0;32m--> 189\u001b[0m \u001b[38;5;28;01mfor\u001b[39;00m state \u001b[38;5;129;01min\u001b[39;00m iterator:\n\u001b[1;32m    190\u001b[0m     \u001b[38;5;28;01mif\u001b[39;00m \u001b[38;5;28misinstance\u001b[39m(train_ds, tf\u001b[38;5;241m.\u001b[39mdata\u001b[38;5;241m.\u001b[39mDataset):\n\u001b[1;32m    191\u001b[0m         state \u001b[38;5;241m=\u001b[39m jnp\u001b[38;5;241m.\u001b[39marray(state)\n",
      "File \u001b[0;32m~/micromamba/envs/nc/lib/python3.10/site-packages/tensorflow/python/data/ops/dataset_ops.py:4738\u001b[0m, in \u001b[0;36mNumpyIterator.__next__\u001b[0;34m(self)\u001b[0m\n\u001b[1;32m   4735\u001b[0m     numpy\u001b[38;5;241m.\u001b[39msetflags(write\u001b[38;5;241m=\u001b[39m\u001b[38;5;28;01mFalse\u001b[39;00m)\n\u001b[1;32m   4736\u001b[0m   \u001b[38;5;28;01mreturn\u001b[39;00m numpy\n\u001b[0;32m-> 4738\u001b[0m \u001b[38;5;28;01mreturn\u001b[39;00m nest\u001b[38;5;241m.\u001b[39mmap_structure(to_numpy, \u001b[38;5;28;43mnext\u001b[39;49m\u001b[43m(\u001b[49m\u001b[38;5;28;43mself\u001b[39;49m\u001b[38;5;241;43m.\u001b[39;49m\u001b[43m_iterator\u001b[49m\u001b[43m)\u001b[49m)\n",
      "File \u001b[0;32m~/micromamba/envs/nc/lib/python3.10/site-packages/tensorflow/python/data/ops/iterator_ops.py:826\u001b[0m, in \u001b[0;36mOwnedIterator.__next__\u001b[0;34m(self)\u001b[0m\n\u001b[1;32m    824\u001b[0m \u001b[38;5;28;01mdef\u001b[39;00m \u001b[38;5;21m__next__\u001b[39m(\u001b[38;5;28mself\u001b[39m):\n\u001b[1;32m    825\u001b[0m   \u001b[38;5;28;01mtry\u001b[39;00m:\n\u001b[0;32m--> 826\u001b[0m     \u001b[38;5;28;01mreturn\u001b[39;00m \u001b[38;5;28;43mself\u001b[39;49m\u001b[38;5;241;43m.\u001b[39;49m\u001b[43m_next_internal\u001b[49m\u001b[43m(\u001b[49m\u001b[43m)\u001b[49m\n\u001b[1;32m    827\u001b[0m   \u001b[38;5;28;01mexcept\u001b[39;00m errors\u001b[38;5;241m.\u001b[39mOutOfRangeError:\n\u001b[1;32m    828\u001b[0m     \u001b[38;5;28;01mraise\u001b[39;00m \u001b[38;5;167;01mStopIteration\u001b[39;00m\n",
      "File \u001b[0;32m~/micromamba/envs/nc/lib/python3.10/site-packages/tensorflow/python/data/ops/iterator_ops.py:776\u001b[0m, in \u001b[0;36mOwnedIterator._next_internal\u001b[0;34m(self)\u001b[0m\n\u001b[1;32m    773\u001b[0m \u001b[38;5;66;03m# TODO(b/77291417): This runs in sync mode as iterators use an error status\u001b[39;00m\n\u001b[1;32m    774\u001b[0m \u001b[38;5;66;03m# to communicate that there is no more data to iterate over.\u001b[39;00m\n\u001b[1;32m    775\u001b[0m \u001b[38;5;28;01mwith\u001b[39;00m context\u001b[38;5;241m.\u001b[39mexecution_mode(context\u001b[38;5;241m.\u001b[39mSYNC):\n\u001b[0;32m--> 776\u001b[0m   ret \u001b[38;5;241m=\u001b[39m \u001b[43mgen_dataset_ops\u001b[49m\u001b[38;5;241;43m.\u001b[39;49m\u001b[43miterator_get_next\u001b[49m\u001b[43m(\u001b[49m\n\u001b[1;32m    777\u001b[0m \u001b[43m      \u001b[49m\u001b[38;5;28;43mself\u001b[39;49m\u001b[38;5;241;43m.\u001b[39;49m\u001b[43m_iterator_resource\u001b[49m\u001b[43m,\u001b[49m\n\u001b[1;32m    778\u001b[0m \u001b[43m      \u001b[49m\u001b[43moutput_types\u001b[49m\u001b[38;5;241;43m=\u001b[39;49m\u001b[38;5;28;43mself\u001b[39;49m\u001b[38;5;241;43m.\u001b[39;49m\u001b[43m_flat_output_types\u001b[49m\u001b[43m,\u001b[49m\n\u001b[1;32m    779\u001b[0m \u001b[43m      \u001b[49m\u001b[43moutput_shapes\u001b[49m\u001b[38;5;241;43m=\u001b[39;49m\u001b[38;5;28;43mself\u001b[39;49m\u001b[38;5;241;43m.\u001b[39;49m\u001b[43m_flat_output_shapes\u001b[49m\u001b[43m)\u001b[49m\n\u001b[1;32m    781\u001b[0m   \u001b[38;5;28;01mtry\u001b[39;00m:\n\u001b[1;32m    782\u001b[0m     \u001b[38;5;66;03m# Fast path for the case `self._structure` is not a nested structure.\u001b[39;00m\n\u001b[1;32m    783\u001b[0m     \u001b[38;5;28;01mreturn\u001b[39;00m \u001b[38;5;28mself\u001b[39m\u001b[38;5;241m.\u001b[39m_element_spec\u001b[38;5;241m.\u001b[39m_from_compatible_tensor_list(ret)  \u001b[38;5;66;03m# pylint: disable=protected-access\u001b[39;00m\n",
      "File \u001b[0;32m~/micromamba/envs/nc/lib/python3.10/site-packages/tensorflow/python/ops/gen_dataset_ops.py:3081\u001b[0m, in \u001b[0;36miterator_get_next\u001b[0;34m(iterator, output_types, output_shapes, name)\u001b[0m\n\u001b[1;32m   3079\u001b[0m \u001b[38;5;28;01mif\u001b[39;00m tld\u001b[38;5;241m.\u001b[39mis_eager:\n\u001b[1;32m   3080\u001b[0m   \u001b[38;5;28;01mtry\u001b[39;00m:\n\u001b[0;32m-> 3081\u001b[0m     _result \u001b[38;5;241m=\u001b[39m \u001b[43mpywrap_tfe\u001b[49m\u001b[38;5;241;43m.\u001b[39;49m\u001b[43mTFE_Py_FastPathExecute\u001b[49m\u001b[43m(\u001b[49m\n\u001b[1;32m   3082\u001b[0m \u001b[43m      \u001b[49m\u001b[43m_ctx\u001b[49m\u001b[43m,\u001b[49m\u001b[43m \u001b[49m\u001b[38;5;124;43m\"\u001b[39;49m\u001b[38;5;124;43mIteratorGetNext\u001b[39;49m\u001b[38;5;124;43m\"\u001b[39;49m\u001b[43m,\u001b[49m\u001b[43m \u001b[49m\u001b[43mname\u001b[49m\u001b[43m,\u001b[49m\u001b[43m \u001b[49m\u001b[43miterator\u001b[49m\u001b[43m,\u001b[49m\u001b[43m \u001b[49m\u001b[38;5;124;43m\"\u001b[39;49m\u001b[38;5;124;43moutput_types\u001b[39;49m\u001b[38;5;124;43m\"\u001b[39;49m\u001b[43m,\u001b[49m\u001b[43m \u001b[49m\u001b[43moutput_types\u001b[49m\u001b[43m,\u001b[49m\n\u001b[1;32m   3083\u001b[0m \u001b[43m      \u001b[49m\u001b[38;5;124;43m\"\u001b[39;49m\u001b[38;5;124;43moutput_shapes\u001b[39;49m\u001b[38;5;124;43m\"\u001b[39;49m\u001b[43m,\u001b[49m\u001b[43m \u001b[49m\u001b[43moutput_shapes\u001b[49m\u001b[43m)\u001b[49m\n\u001b[1;32m   3084\u001b[0m     \u001b[38;5;28;01mreturn\u001b[39;00m _result\n\u001b[1;32m   3085\u001b[0m   \u001b[38;5;28;01mexcept\u001b[39;00m _core\u001b[38;5;241m.\u001b[39m_NotOkStatusException \u001b[38;5;28;01mas\u001b[39;00m e:\n",
      "\u001b[0;31mKeyboardInterrupt\u001b[0m: "
     ]
    }
   ],
   "source": [
    "loop.run(args.timeout*10)"
   ]
  },
  {
   "cell_type": "code",
   "execution_count": 172,
   "metadata": {},
   "outputs": [
    {
     "name": "stdout",
     "output_type": "stream",
     "text": [
      "[Array([-1.        , -0.79999995, -0.6       , -0.39999998, -0.20000002,\n",
      "        0.        ,  0.20000005,  0.39999998,  0.6       ,  0.8000001 ],      dtype=float32), Array([-1.        , -0.79999995, -0.6       , -0.39999998, -0.20000002,\n",
      "        0.        ,  0.20000005,  0.39999998,  0.6       ,  0.8000001 ],      dtype=float32)]\n",
      "[0.02       0.06       0.09999999 0.14       0.18000004 0.18000004\n",
      " 0.14000002 0.09999998 0.05999998 0.01999999 0.02       0.06\n",
      " 0.09999999 0.14       0.18000004 0.18000004 0.14000002 0.09999998\n",
      " 0.05999998 0.01999999 0.02       0.06       0.09999999 0.14\n",
      " 0.18000004 0.18000004 0.14000002 0.09999998 0.05999998 0.01999999\n",
      " 0.02       0.06       0.09999999 0.14       0.18000004 0.18000004\n",
      " 0.14000002 0.09999998 0.05999998 0.01999999 0.02       0.06\n",
      " 0.09999999 0.14       0.18000004 0.18000004 0.14000002 0.09999998\n",
      " 0.05999998 0.01999999 0.02       0.06       0.09999999 0.14\n",
      " 0.18000004 0.18000004 0.14000002 0.09999998 0.05999998 0.01999999\n",
      " 0.02       0.06       0.09999999 0.14       0.18000004 0.18000004\n",
      " 0.14000002 0.09999998 0.05999998 0.01999999 0.02       0.06\n",
      " 0.09999999 0.14       0.18000004 0.18000004 0.14000002 0.09999998\n",
      " 0.05999998 0.01999999 0.02       0.06       0.09999999 0.14\n",
      " 0.18000004 0.18000004 0.14000002 0.09999998 0.05999998 0.01999999\n",
      " 0.02       0.06       0.09999999 0.14       0.18000004 0.18000004\n",
      " 0.14000002 0.09999998 0.05999998 0.01999999]\n",
      "[0.02       0.02       0.02       0.02       0.02       0.02\n",
      " 0.02       0.02       0.02       0.02       0.06       0.06\n",
      " 0.06       0.06       0.06       0.06       0.06       0.06\n",
      " 0.06       0.06       0.09999999 0.09999999 0.09999999 0.09999999\n",
      " 0.09999999 0.09999999 0.09999999 0.09999999 0.09999999 0.09999999\n",
      " 0.14       0.14       0.14       0.14       0.14       0.14\n",
      " 0.14       0.14       0.14       0.14       0.18000004 0.18000004\n",
      " 0.18000004 0.18000004 0.18000004 0.18000004 0.18000004 0.18000004\n",
      " 0.18000004 0.18000004 0.18000004 0.18000004 0.18000004 0.18000004\n",
      " 0.18000004 0.18000004 0.18000004 0.18000004 0.18000004 0.18000004\n",
      " 0.14000002 0.14000002 0.14000002 0.14000002 0.14000002 0.14000002\n",
      " 0.14000002 0.14000002 0.14000002 0.14000002 0.09999998 0.09999998\n",
      " 0.09999998 0.09999998 0.09999998 0.09999998 0.09999998 0.09999998\n",
      " 0.09999998 0.09999998 0.05999998 0.05999998 0.05999998 0.05999998\n",
      " 0.05999998 0.05999998 0.05999998 0.05999998 0.05999998 0.05999998\n",
      " 0.01999999 0.01999999 0.01999999 0.01999999 0.01999999 0.01999999\n",
      " 0.01999999 0.01999999 0.01999999 0.01999999]\n"
     ]
    }
   ],
   "source": [
    "grid, steps = [], []\n",
    "for i in range(2):\n",
    "    samples, step = jnp.linspace(\n",
    "        -1.0,\n",
    "        1.0,\n",
    "        2,\n",
    "        endpoint=False,\n",
    "        retstep=True,\n",
    "    )\n",
    "    grid.append(samples)\n",
    "    steps.append(step)\n",
    "\n",
    "print(grid)\n",
    "grid_lb = jnp.meshgrid(*grid)\n",
    "grid_lb = [x.flatten() for x in grid_lb]\n",
    "grid_ub = [grid_lb[i] + steps[i] for i in range(2)]\n",
    "print(grid_lb)\n",
    "\n",
    "pmass = env.integrate_noise(grid_lb, grid_ub)"
   ]
  },
  {
   "cell_type": "code",
   "execution_count": 173,
   "metadata": {},
   "outputs": [
    {
     "data": {
      "text/plain": [
       "Array(1., dtype=float32)"
      ]
     },
     "execution_count": 173,
     "metadata": {},
     "output_type": "execute_result"
    }
   ],
   "source": [
    "jnp.sum(pmass)"
   ]
  },
  {
   "cell_type": "code",
   "execution_count": null,
   "metadata": {},
   "outputs": [],
   "source": []
  }
 ],
 "metadata": {
  "kernelspec": {
   "display_name": "Python 3",
   "language": "python",
   "name": "python3"
  },
  "language_info": {
   "codemirror_mode": {
    "name": "ipython",
    "version": 3
   },
   "file_extension": ".py",
   "mimetype": "text/x-python",
   "name": "python",
   "nbconvert_exporter": "python",
   "pygments_lexer": "ipython3",
   "version": "3.10.14"
  }
 },
 "nbformat": 4,
 "nbformat_minor": 2
}
