{
 "cells": [
  {
   "cell_type": "code",
   "execution_count": 205,
   "metadata": {},
   "outputs": [
    {
     "name": "stdout",
     "output_type": "stream",
     "text": [
      "The autoreload extension is already loaded. To reload it, use:\n",
      "  %reload_ext autoreload\n"
     ]
    }
   ],
   "source": [
    "%load_ext autoreload\n",
    "%autoreload 2\n",
    "import argparse\n",
    "import os\n",
    "import sys\n",
    "import jax\n",
    "import jax.numpy as jnp\n",
    "import gymnasium as gym\n",
    "# import jax.random\n",
    "# from gymnasium import spaces\n",
    "from tqdm import tqdm\n",
    "\n",
    "from klax import lipschitz_l1_jax, triangular\n",
    "from rl_environments import Vandelpol, Poly1, LinearLQR, NonPoly1\n",
    "# from rl_environments import LDSEnv, InvertedPendulum, CollisionAvoidanceEnv, Vandelpol\n",
    "from rsm_learner import Learner\n",
    "from rsm_verifier import Verifier\n",
    "import time\n",
    "import numpy as np\n",
    "import matplotlib.pyplot as plt\n",
    "import seaborn as sns\n",
    "from rsm_loop import RSMLoop\n",
    "from klax import (\n",
    "    project,\n",
    "    inverse_project,\n",
    "    v_project,\n",
    "    v_inverse_project,\n",
    "    jax_save,\n",
    "    jax_load,\n",
    "    lipschitz_l1_jax,\n",
    "    # martingale_loss,\n",
    "    # triangular,\n",
    "    IBPMLP,\n",
    "    MLP,\n",
    "    create_train_state,\n",
    "    # zero_at_zero_loss,\n",
    "    clip_grad_norm,\n",
    ")\n",
    "\n",
    "\n",
    "parser = argparse.ArgumentParser(\n",
    "    prog='System Normalization for Neural Certificates',\n",
    "    description='Learning a reach-avoid supermartingale neural network with normalization techniques',\n",
    "    epilog='By Musan (Hao Wu) @ SKLCS, Institute of Software, UCAS'\n",
    ")\n",
    "parser.add_argument(\"--env\", default=\"1\", help='dynamical system')\n",
    "parser.add_argument(\"--timeout\", default=60, type=int, help='max time limit in minutes') \n",
    "parser.add_argument(\"--reach_prob\", default=0.9, type=float, help='reach-avoid probability')\n",
    "parser.add_argument(\"--batch_size\", default=512, type=int, help='batch size in training and verification')\n",
    "\n",
    "# learner \n",
    "parser.add_argument(\"--hidden\", default=16, type=int, help='hidden neurons in each layer')\n",
    "parser.add_argument(\"--num_layers\", default=2, type=int, help='number of hidden layers')\n",
    "parser.add_argument(\"--square_l_output\", default=True, help='use square activation in the last layer')\n",
    "parser.add_argument(\"--continue_rsm\", type=int, default=0, help='use an existing network')\n",
    "\n",
    "# verifier\n",
    "parser.add_argument(\"--eps\", default=0.05, type=float, help='epsilon in the RASM condition') \n",
    "parser.add_argument(\"--lip\", default=0.1, type=float, help='regularization term for lipschitz constant') \n",
    "parser.add_argument(\"--l_lip\", default=1.0, type=float, help='target lipschitz constant of the neural network') \n",
    "parser.add_argument(\"--grid_size\", default=200, type=int, help='grid size for verification')\n",
    "\n",
    "parser.add_argument(\"--normalize\", default=False, type=bool, help='Nomalize the system')\n",
    "parser.add_argument(\"--debug\", default=True, type=bool)\n",
    "sys.argv = ['test.ipynb', '--env', '1']\n",
    "args = parser.parse_args()\n",
    "\n",
    "env = NonPoly1(difficulty=5)\n",
    "\n",
    "learner = Learner(\n",
    "        env=env,\n",
    "        l_hidden=[args.hidden] * args.num_layers,\n",
    "        l_lip=args.l_lip,\n",
    "        eps=args.eps,\n",
    "        reach_prob=args.reach_prob,\n",
    "        softplus_l_output=True,\n",
    "        normalize = args.normalize,\n",
    "        debug = args.debug,\n",
    "    )\n",
    "    \n",
    "verifier = Verifier(\n",
    "        learner=learner,\n",
    "        env=env,\n",
    "        batch_size=args.batch_size,\n",
    "        reach_prob=args.reach_prob,\n",
    "        grid_size=args.grid_size,\n",
    "        normalize=args.normalize,\n",
    "        debug = args.debug,\n",
    "    )\n",
    "\n",
    "if args.continue_rsm > 0:\n",
    "        learner.load(f\"saved/{args.env}_loop.jax\")\n",
    "\n",
    "loop = RSMLoop( \n",
    "        learner,\n",
    "        verifier,\n",
    "        env,\n",
    "        lip_factor=args.lip,\n",
    "        normalize=args.normalize,\n",
    "        debug = args.debug,\n",
    "    )\n",
    "\n",
    "# loop.plot_l(f\"plots/{args.env}_start.png\")"
   ]
  },
  {
   "cell_type": "code",
   "execution_count": 203,
   "metadata": {},
   "outputs": [
    {
     "name": "stderr",
     "output_type": "stream",
     "text": [
      "100%|██████████| 1/1 [00:00<00:00,  2.18it/s]\n"
     ]
    },
    {
     "data": {
      "text/plain": [
       "(3.6276910305023193, 4.719462871551514)"
      ]
     },
     "execution_count": 203,
     "metadata": {},
     "output_type": "execute_result"
    }
   ],
   "source": [
    "verifier.compute_bound_l(env.unsafe_spaces)"
   ]
  },
  {
   "cell_type": "code",
   "execution_count": 202,
   "metadata": {},
   "outputs": [
    {
     "name": "stdout",
     "output_type": "stream",
     "text": [
      "[[-0.35998467 -0.3478004 ]] [[-0.13042949  0.2105075 ]]\n"
     ]
    },
    {
     "name": "stderr",
     "output_type": "stream",
     "text": [
      "100%|██████████| 1/1 [00:00<00:00, 135.91it/s]\n"
     ]
    },
    {
     "data": {
      "text/plain": [
       "(1.907335877418518, 3.9509012699127197)"
      ]
     },
     "execution_count": 202,
     "metadata": {},
     "output_type": "execute_result"
    }
   ],
   "source": [
    "learner.load(\"saved/NonPoly1_loop.jax\")\n",
    "# lb = env.unsafe_spaces[0].low\n",
    "# ub = env.unsafe_spaces[0].high\n",
    "lb = [project(env.unsafe_spaces[0].low)]\n",
    "ub = [project(env.unsafe_spaces[0].high)]\n",
    "x_boxes = verifier.make_box(lb, ub)\n",
    "y_lb, y_ub = verifier.v_get_y_box(x_boxes)\n",
    "print(y_lb, y_ub)\n",
    "verifier.compute_bounds_on_set(y_lb,y_ub)\n",
    "\n",
    "# verifier.compute_bounds_on_set(jnp.array([lb]), jnp.array([ub]))"
   ]
  },
  {
   "cell_type": "code",
   "execution_count": 194,
   "metadata": {},
   "outputs": [
    {
     "name": "stderr",
     "output_type": "stream",
     "text": [
      "100%|██████████| 1/1 [00:00<00:00, 56.33it/s]\n"
     ]
    },
    {
     "data": {
      "text/plain": [
       "(0.757574200630188, 0.8432248830795288)"
      ]
     },
     "execution_count": 194,
     "metadata": {},
     "output_type": "execute_result"
    }
   ],
   "source": [
    "learner.load(\"saved/NonPoly1_loop.jax\")\n",
    "# lb = env.unsafe_spaces[0].low\n",
    "# ub = env.unsafe_spaces[0].high\n",
    "lb = project(env.init_spaces[0].low)\n",
    "ub = project(env.init_spaces[0].high)\n",
    "verifier.compute_bounds_on_set(jnp.array([lb]), jnp.array([ub]))"
   ]
  },
  {
   "cell_type": "code",
   "execution_count": 171,
   "metadata": {},
   "outputs": [
    {
     "name": "stderr",
     "output_type": "stream",
     "text": [
      "100%|██████████| 1/1 [00:00<00:00, 84.70it/s]\n"
     ]
    },
    {
     "data": {
      "text/plain": [
       "(0.3501799702644348, 0.836003839969635)"
      ]
     },
     "execution_count": 171,
     "metadata": {},
     "output_type": "execute_result"
    }
   ],
   "source": [
    "lb = project(env.init_spaces[0].low)\n",
    "ub = project(env.init_spaces[0].high)\n",
    "verifier.compute_bounds_on_set(jnp.array([lb]), jnp.array([ub]))"
   ]
  },
  {
   "cell_type": "code",
   "execution_count": 148,
   "metadata": {},
   "outputs": [
    {
     "name": "stdout",
     "output_type": "stream",
     "text": [
      "sample min unsafe: 0.72276515\n"
     ]
    }
   ],
   "source": [
    "rng = jax.random.PRNGKey(0)\n",
    "unsafe_samples = v_project(learner.sample_unsafe(rng, 256))\n",
    "l_at_unsafe = learner.l_state.apply_fn(learner.l_state.params, unsafe_samples)\n",
    "min_at_unsafe = jnp.min(l_at_unsafe)\n",
    "print(\"sample min unsafe:\", min_at_unsafe)"
   ]
  },
  {
   "cell_type": "code",
   "execution_count": 144,
   "metadata": {},
   "outputs": [
    {
     "data": {
      "text/plain": [
       "2"
      ]
     },
     "execution_count": 144,
     "metadata": {},
     "output_type": "execute_result"
    }
   ],
   "source": [
    "a = 1\n",
    "a = np.maximum(2, a)\n",
    "a"
   ]
  },
  {
   "cell_type": "code",
   "execution_count": 207,
   "metadata": {},
   "outputs": [
    {
     "data": {
      "text/plain": [
       "Array([[ 0.5000663 ,  3.169514  ],\n",
       "       [ 0.28297544,  3.027704  ],\n",
       "       [ 1.1871221 ,  3.3483384 ],\n",
       "       [ 0.21701396,  3.102299  ],\n",
       "       [-0.8663714 ,  3.4614828 ]], dtype=float32)"
      ]
     },
     "execution_count": 207,
     "metadata": {},
     "output_type": "execute_result"
    }
   ],
   "source": [
    "rng = jax.random.PRNGKey(0)\n",
    "learner.sample_init(rng, 5)"
   ]
  },
  {
   "cell_type": "code",
   "execution_count": 187,
   "metadata": {},
   "outputs": [
    {
     "name": "stdout",
     "output_type": "stream",
     "text": [
      "[-0.16666667  0.14285715]\n"
     ]
    },
    {
     "name": "stderr",
     "output_type": "stream",
     "text": [
      "100%|██████████| 1/1 [00:00<00:00, 95.31it/s]\n"
     ]
    },
    {
     "data": {
      "text/plain": [
       "(0.31266385316848755, 0.9417946338653564)"
      ]
     },
     "execution_count": 187,
     "metadata": {},
     "output_type": "execute_result"
    }
   ],
   "source": [
    "verifier.compute_bound_l(env.init_spaces)"
   ]
  },
  {
   "cell_type": "code",
   "execution_count": 213,
   "metadata": {},
   "outputs": [
    {
     "data": {
      "text/plain": [
       "Array([1.0598719, 3.6419444], dtype=float32)"
      ]
     },
     "execution_count": 213,
     "metadata": {},
     "output_type": "execute_result"
    }
   ],
   "source": [
    "s = learner.sample_init(rng, 1)\n",
    "s.flatten()"
   ]
  },
  {
   "cell_type": "code",
   "execution_count": 210,
   "metadata": {},
   "outputs": [
    {
     "name": "stdout",
     "output_type": "stream",
     "text": [
      "[-0.7092616  3.505155 ]\n"
     ]
    }
   ],
   "source": [
    "state  = jax.random.uniform(\n",
    "                rng,\n",
    "                2,\n",
    "                minval=np.maximum(env.init_spaces[0].low, -10000),\n",
    "                maxval=np.minimum(env.init_spaces[0].high, 10000),\n",
    "            )\n",
    "print(state)"
   ]
  },
  {
   "cell_type": "code",
   "execution_count": 221,
   "metadata": {},
   "outputs": [
    {
     "name": "stdout",
     "output_type": "stream",
     "text": [
      "[-inf, -inf, -inf]\n"
     ]
    }
   ],
   "source": [
    "low = [-np.inf] * 3\n",
    "print(low)"
   ]
  },
  {
   "cell_type": "code",
   "execution_count": 219,
   "metadata": {},
   "outputs": [
    {
     "data": {
      "text/plain": [
       "[-1.25, 2.5]"
      ]
     },
     "execution_count": 219,
     "metadata": {},
     "output_type": "execute_result"
    }
   ],
   "source": [
    "scale = 5\n",
    "a = [-0.25*scale, 0.5*scale]\n",
    "a"
   ]
  },
  {
   "cell_type": "code",
   "execution_count": 218,
   "metadata": {},
   "outputs": [
    {
     "data": {
      "text/plain": [
       "Array([-0.2631579,  0.5263158], dtype=float32)"
      ]
     },
     "execution_count": 218,
     "metadata": {},
     "output_type": "execute_result"
    }
   ],
   "source": [
    "project(jnp.array(a))"
   ]
  },
  {
   "cell_type": "code",
   "execution_count": 225,
   "metadata": {},
   "outputs": [
    {
     "data": {
      "text/plain": [
       "2"
      ]
     },
     "execution_count": 225,
     "metadata": {},
     "output_type": "execute_result"
    }
   ],
   "source": [
    "a = jnp.array([[1,2],[3,4]])\n",
    "a.shape[1]"
   ]
  },
  {
   "cell_type": "code",
   "execution_count": 227,
   "metadata": {},
   "outputs": [],
   "source": [
    "rng = jax.random.PRNGKey(0)\n",
    "r1, r2 =jax.random.split(rng, 2)"
   ]
  },
  {
   "cell_type": "code",
   "execution_count": 228,
   "metadata": {},
   "outputs": [
    {
     "data": {
      "text/plain": [
       "Array([4146024105,  967050713], dtype=uint32)"
      ]
     },
     "execution_count": 228,
     "metadata": {},
     "output_type": "execute_result"
    }
   ],
   "source": [
    "r1"
   ]
  },
  {
   "cell_type": "code",
   "execution_count": 230,
   "metadata": {},
   "outputs": [
    {
     "data": {
      "text/plain": [
       "Array([[2285895361, 1501764800],\n",
       "       [1518642379, 4090693311],\n",
       "       [ 433833334, 4221794875],\n",
       "       [ 839183663, 3740430601]], dtype=uint32)"
      ]
     },
     "execution_count": 230,
     "metadata": {},
     "output_type": "execute_result"
    }
   ],
   "source": [
    "jax.random.split(rng, 4)"
   ]
  },
  {
   "cell_type": "code",
   "execution_count": 238,
   "metadata": {},
   "outputs": [
    {
     "name": "stdout",
     "output_type": "stream",
     "text": [
      "0.5118216247002567\n"
     ]
    }
   ],
   "source": [
    "rng = np.random.default_rng(seed=1)\n",
    "rfloat = rng.random()\n",
    "print(rfloat)"
   ]
  },
  {
   "cell_type": "code",
   "execution_count": 239,
   "metadata": {},
   "outputs": [
    {
     "name": "stdout",
     "output_type": "stream",
     "text": [
      "0.9504636963259353\n"
     ]
    }
   ],
   "source": [
    "rfloat = rng.random()\n",
    "print(rfloat)"
   ]
  },
  {
   "cell_type": "code",
   "execution_count": 240,
   "metadata": {},
   "outputs": [
    {
     "name": "stdout",
     "output_type": "stream",
     "text": [
      "0.14415961271963373\n"
     ]
    }
   ],
   "source": [
    "rfloat = rng.random()\n",
    "print(rfloat)"
   ]
  },
  {
   "cell_type": "code",
   "execution_count": 248,
   "metadata": {},
   "outputs": [
    {
     "data": {
      "text/plain": [
       "array([8, 1, 2, 5, 3, 6, 9, 7, 4])"
      ]
     },
     "execution_count": 248,
     "metadata": {},
     "output_type": "execute_result"
    }
   ],
   "source": [
    "s = [1,2,3,4,5,6,7,8,9]\n",
    "rng = np.random.default_rng(seed=1)\n",
    "rng.permutation(s)"
   ]
  },
  {
   "cell_type": "code",
   "execution_count": 247,
   "metadata": {},
   "outputs": [
    {
     "data": {
      "text/plain": [
       "array([2, 8, 7, 1, 3, 4, 5, 6, 9])"
      ]
     },
     "execution_count": 247,
     "metadata": {},
     "output_type": "execute_result"
    }
   ],
   "source": [
    "rng.permutation(s)"
   ]
  },
  {
   "cell_type": "code",
   "execution_count": 251,
   "metadata": {},
   "outputs": [
    {
     "data": {
      "text/plain": [
       "<_ShuffleDataset element_spec=TensorSpec(shape=(), dtype=tf.int32, name=None)>"
      ]
     },
     "execution_count": 251,
     "metadata": {},
     "output_type": "execute_result"
    }
   ],
   "source": [
    "import tensorflow as tf\n",
    "s = tf.data.Dataset.from_tensor_slices(s)\n",
    "s.shuffle(buffer_size=9, seed=1)"
   ]
  },
  {
   "cell_type": "code",
   "execution_count": 262,
   "metadata": {},
   "outputs": [
    {
     "name": "stdout",
     "output_type": "stream",
     "text": [
      "6\n",
      "3\n"
     ]
    }
   ],
   "source": [
    "rng = jax.random.PRNGKey(0)\n",
    "int = jax.random.randint(rng, minval=0, maxval=9, shape=(2,))\n",
    "print(78)\n",
    "print(int[0])\n"
   ]
  },
  {
   "cell_type": "code",
   "execution_count": 266,
   "metadata": {},
   "outputs": [
    {
     "data": {
      "text/plain": [
       "Generator(PCG64) at 0x348209700"
      ]
     },
     "execution_count": 266,
     "metadata": {},
     "output_type": "execute_result"
    }
   ],
   "source": [
    "np.random.default_rng(78)"
   ]
  },
  {
   "cell_type": "code",
   "execution_count": 269,
   "metadata": {},
   "outputs": [
    {
     "data": {
      "text/plain": [
       "Array(0.6931472, dtype=float32, weak_type=True)"
      ]
     },
     "execution_count": 269,
     "metadata": {},
     "output_type": "execute_result"
    }
   ],
   "source": [
    "jnp.log(2.0)"
   ]
  },
  {
   "cell_type": "code",
   "execution_count": 274,
   "metadata": {},
   "outputs": [
    {
     "data": {
      "text/plain": [
       "Array(1., dtype=float32)"
      ]
     },
     "execution_count": 274,
     "metadata": {},
     "output_type": "execute_result"
    }
   ],
   "source": [
    "jax.scipy.stats.uniform.cdf(2, loc=0, scale=2)"
   ]
  },
  {
   "cell_type": "code",
   "execution_count": 276,
   "metadata": {},
   "outputs": [
    {
     "data": {
      "text/plain": [
       "Array(0.5, dtype=float32)"
      ]
     },
     "execution_count": 276,
     "metadata": {},
     "output_type": "execute_result"
    }
   ],
   "source": [
    "jax.scipy.stats.uniform.cdf(0, loc=-1, scale=2)\n"
   ]
  },
  {
   "cell_type": "code",
   "execution_count": 278,
   "metadata": {},
   "outputs": [
    {
     "data": {
      "text/plain": [
       "Array(0.15865527, dtype=float32)"
      ]
     },
     "execution_count": 278,
     "metadata": {},
     "output_type": "execute_result"
    }
   ],
   "source": [
    "jax.scipy.stats.norm.cdf(-1, loc=0, scale=1)"
   ]
  },
  {
   "cell_type": "code",
   "execution_count": 279,
   "metadata": {},
   "outputs": [
    {
     "data": {
      "text/plain": [
       "Array([[False, False, False,  True],\n",
       "       [False, False,  True,  True],\n",
       "       [False,  True,  True,  True],\n",
       "       [ True,  True,  True,  True]], dtype=bool)"
      ]
     },
     "execution_count": 279,
     "metadata": {},
     "output_type": "execute_result"
    }
   ],
   "source": [
    "a = jnp.array([4,3,2,1])\n",
    "b = jnp.array([[1],[2],[3],[4]])\n",
    "a<=b"
   ]
  },
  {
   "cell_type": "code",
   "execution_count": null,
   "metadata": {},
   "outputs": [],
   "source": []
  }
 ],
 "metadata": {
  "kernelspec": {
   "display_name": "nc",
   "language": "python",
   "name": "python3"
  },
  "language_info": {
   "codemirror_mode": {
    "name": "ipython",
    "version": 3
   },
   "file_extension": ".py",
   "mimetype": "text/x-python",
   "name": "python",
   "nbconvert_exporter": "python",
   "pygments_lexer": "ipython3",
   "version": "3.10.14"
  }
 },
 "nbformat": 4,
 "nbformat_minor": 2
}
